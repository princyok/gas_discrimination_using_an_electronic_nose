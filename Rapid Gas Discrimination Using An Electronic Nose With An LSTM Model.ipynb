{
 "cells": [
  {
   "cell_type": "markdown",
   "metadata": {},
   "source": [
    "# Summary\n",
    "\n",
    "An LSTM model was used to process data from an electronic nose to discriminate between the gaseous signatures of banana, wine and background (neither banana nor wine) with an accuracy of over **<font color='3bd80d'>99%</font>** on a test dataset. A significant improvement on the 81% accuracy achieved by **Huerta et al (2016)** ([preprint on arXiv](https://arxiv.org/pdf/1608.01719.pdf)), who provided the dataset to the public. "
   ]
  },
  {
   "cell_type": "markdown",
   "metadata": {},
   "source": [
    "# Quick overview of gas discrimination"
   ]
  },
  {
   "cell_type": "markdown",
   "metadata": {},
   "source": [
    "## Gas Discrimination\n",
    "Gas discrimination task involves identifying and differenting various gases or gasoues stimuli. There are simpler examples like detecting carbon monoxide in indoor air, and hydrogen sulphide in a mining site, and there more challenging ones like differentiating the gasoues stimuli of a pool of diesel fuel from that of a pool of gasoline (which can be important as the latter is much more flammable than the former as it has a much lower flash point). Such gas discrimination tasks can be tackled using an **electronic nose**.\n",
    "\n",
    "<img src=\"images/diesel_vs_gasoline.png\" style=\"width: 400px;\"/>\n",
    "<center><i><b>Gasoline (right) is much more flammable than diesel fuel (left). Each produces a rich mixture of hydrocarbon gases that gives it a distinct gaseous signature and also its scents.</b></i></center>\n",
    "\n",
    "This subfield rapid chemical analysis is also beginning to intersect with robotics, as electronic noses are becoming vital instruments for robots to have, especially those deployed in hazardous environments. Traditional techniques of discriminating gases, like gas chromatography, often take hours to run and are therefore not suitable (Fan et al 2019).\n",
    " \n",
    "Accurate discrimination of gases in a quick, cost-efficient manner remains a  challenging problem that's still actively being researched from multiple angles (lots of papers every year), like developing better sensors, better pattern recognition algorithms, expanding our understanding of the physical processes involved in the transduction of chemical signatures to electrical signals, etc."
   ]
  },
  {
   "cell_type": "markdown",
   "metadata": {},
   "source": [
    "## Electronic nose\n",
    "An electronic nose setup is an array of gas sensors, often with mix of cross sensitive and selective sensors, that are used to identify chemical signatures that could be made up of an assorted mixture of gases. Cross sensitive sensors respond to multiple target gases while strictly selective sensors respond to one target gas (often very hard to achieve).\n",
    "\n",
    "Electronic noses are useful instruments for human monitoring purposes, environmental analysis, atmospheric hazard prevention, breath analysis, etc.\n",
    "\n",
    "<img src=\"images/an_electronic_nose_setup.jpg\" style=\"width: 400px;\"/>\n",
    "<center><i><b>An electronic nose setup that includes 8 metal-oxide gas sensors (Huerta et al 2016).</b></i></center>"
   ]
  },
  {
   "cell_type": "markdown",
   "metadata": {},
   "source": [
    "\n",
    "\n",
    "### Metal-oxide (MOX) gas sensors\n",
    "\n",
    "Metal-oxide (MOX) sensors are one of the most common type of gas sensors. They cheap to make, easy to use and relatively very stable.\n",
    "\n",
    "When a target gas comes in contact with the sensing surface of a MOX gas sensor, the oxygen already [adsorbed](https://en.wikipedia.org/wiki/Adsorption) to the sensing surface reacts with the target gas and causes a change in the electrical resistance of the sensor (a.k.a. the gas sensor response). This resistance is recorded and then used to determine the concentration of the target gas using a sensitivity characteristics chart (a chart relating resistance to concentration of the target gas).\n",
    "\n",
    "## Sensing chemical signatures using an electronic nose\n",
    "\n",
    "Unlike individual sensors that can be easily calibrated by following established standards (e.g. manufacturer's instructions), gas sensor arrays often require multivariate models to correctly map the sensor responses (electrical resistance values) to the gas concentration or some other desired property, e.g. identity of a gaseous stimulus.\n",
    "\n",
    "The need for data processing and models often make calibrating electronic noses challeneging. Moreover, gas sensor responses are highly sensitive to temperature and humidity; and humidity itself varies with temperature (humidity decreases as temperature rises even when the water content of air or the ambient gas is unchanged), further complicating the relationship. \n",
    "\n",
    "To further complicate the challenge, gas sensors are prone to drift, which is a change of their characteristics over time even when under constant physical and chemical conditions (Holmberg et al 1997). All these makes it important for the model that interprets the readings of an electronic nose to be robust and agile.\n",
    "\n",
    "# References\n",
    "\n",
    "Fan, H., Hernandez Bennetts, V., Schaffernicht, E., & Lilienthal, A. (2019). Towards Gas Discrimination and Mapping in Emergency Response Scenarios Using a Mobile Robot with an Electronic Nose. *Sensors*. https://doi.org/10.3390/s19030685\n",
    "\n",
    "Holmberg, M., Davide, F., Di Natale, C., D'Amico, A., Winquist, F. & Lundström, I. (1997). Drift counteraction in odour recognition applications: life long calibration method. *Sensors and Actuators B: Chemical*: https://doi.org/10.1016/j.chemolab.2016.07.004.\n",
    "\n",
    "Huerta, R., Mosqueiro, T., Fonollosa, J., Rulkov, N., & Rodriguez-Lujan, I. (2016). Online decorrelation of humidity and temperature in chemical sensors for continuous monitoring. *Chemometrics And Intelligent Laboratory Systems*: https://doi.org/10.1016/j.chemolab.2016.07.004"
   ]
  },
  {
   "cell_type": "markdown",
   "metadata": {},
   "source": [
    "# Introduction"
   ]
  },
  {
   "cell_type": "markdown",
   "metadata": {},
   "source": [
    "This mini-project is inspired by the work done by **Huerta et al (2016)** ([preprint on arXiv](https://arxiv.org/pdf/1608.01719.pdf)).\n",
    "\n",
    "They demonstrated a method to improve gas discrimination by first filtering out the effects of environmental humidity and temperature from the gas sensor responses and using that to train an inhibitory support vector machine (I-SVM) that performs the discrimination.\n",
    "\n",
    "The discrimination task was to use an electronic nose made of 8 metal-oxide gas sensors to **differentiate three different gaseous stimili: wine, banana, and background (i.e. neither banana nor wine).** Their paper excellently describes it as follows:\n",
    "\n",
    "> Rather than using the particular chemical signatures of compounds from bananas and wines, our goal is to construct a model that learns to predict presence of banana/wine based on the multivariate response of the sensors. The chemical signature of bananas changes, for instance, as they ripen, and wine's signature depends on alcohol content (ethanol), origin of the grape, among other factors. Thus, our approach attempts at building a model that does not rely on wine type and banana ripeness.\n",
    "\n",
    "They used a theory-based model that exploits the fact that sensor responses depend on the changes of energy bands of the sensing surface, and the changes in the energy bands in turn arise from variations in environmental humidity and temperature. \n",
    "\n",
    "Their theory-based, energy band model computes resistance values based on just changes in environmental humidity and temperature, and by subtracting this output from the actual resistance values measured by the electronic nose, they filter out the impact of changes in environmental humidity and temperature from the sensor readings. \n",
    "\n",
    "By using these filtered signals, instead of the original signals, as an input to an I-SVM model, they were able to improve the perfomance of the gas discrimination task from 71.1% to 80.9%.\n",
    "\n",
    "Upon reading their paper, I wondered in what ways can this be improved?\n",
    "\n",
    "## Dataset\n",
    "\n",
    "The dataset was generated by a wireless electronic nose used to monitor the indoor air for two years in the residence of one of the authors, and it collected data continuously during 537 days with a sampling rate of 1 datapoint per second. A portion of the collected data, which runs from 04-Jul-2015 to 17-Sep-2015, was publicly released on the UCI Machine Learning repository.\n",
    "\n",
    "Link: http://archive.ics.uci.edu/ml/datasets/Gas+sensors+for+home+activity+monitoring\n",
    "\n",
    "### Overview of dataset\n",
    "The data includes two dat files. One is the metadata and the other the main data.\n",
    "\n",
    "Metadata (`HT_Sensor_metadata.dat`): Has 5 fields (columns): \n",
    "* 1 for ID\n",
    "* 1 for date\n",
    "* 1 for class of stimulation\n",
    "* 1 for start-time of stimulation\n",
    "* 1 for duration of stimulation\n",
    "\n",
    "Dataset (`HT_Sensor_dataset.dat`): Has 12 fields (columns):\n",
    "* 1 for ID\n",
    "* 1 for time\n",
    "* 8 for sensor responses (resistances)\n",
    "* 1 for ambient temperature\n",
    "* 1 for ambient humidity\n",
    "\n",
    "Each ID in the dataset represents a period of stimulation with a specific stimulus (wine or banana or background). There are 36 stimulations with wine, 33 with banana and 31 of background activity, for a total of 100. However, one of the stimulations was not recorded (see \"Messy dataset\" below), so only 99.\n",
    "\n",
    "Each span of stimulation is preceded by 1 hour of recording without the stimulus and followed by another hour of recording without the stimulus. However, this was just the intention and the dataset does not actually reflect this for many of the stimulations (see \"Messy dataset\" below).\n",
    "\n",
    "In all, there are 928,991 records (datapoints) distributed unevenly among 99 IDs."
   ]
  },
  {
   "cell_type": "markdown",
   "metadata": {},
   "source": [
    "# Challenges and path forward\n",
    "\n",
    "## Limitations of SVM\n",
    "\n",
    "For their SVM model, the data was resampled to 1 datapoint per minute and a sequence of 10 minutes (10 timesteps per sequence) was fed into the SVM. An SVM model treats each timestep as a separate feature, and this has a number of disadvantages: \n",
    "* The trainable parameters for each timestep is not shared across other timesteps, meaning that the temporal dependencies in the data are not modelled explicitly. \n",
    "* The length of the sequence that the model can accept is fixed because they are treated as features.\n",
    "* The capability of SVM to extract useful features is \n",
    "\n",
    "One way to rectify these shortcomings is to use a model that specifically structured to handle temporal dependencies explicitly. The timesteps are not treated as separate features and the same parameter is associated with all the timesteps in the sequence. One such model is a long short-term memory (LSTM) neural network, which what I used.\n",
    "\n",
    "On weakness of using a neural network is that interpreting the trained model becomes a Herculean task. But interppretability was neither a major focus of the paper nor the gas discrimination task.\n",
    "\n",
    "## Messy dataset \n",
    "The data was intended to have a steady frequency of 1 Hz (1-second periodicity). But in practice, there were failures in the sensors due to number of reasons as the paper explained. Sometimes the electronic nose stopped transmitting due issues in the wireless connectivity, or the sensors were displaced from their location and stopped working. \n",
    "\n",
    "\n",
    "The size of the timesteps are all over the place. Everything from the two different readings at the same exact time to gaps that are minutes long. Indeed, as the paper describes it, the dataset \"represents a wide variety of events present in home monitoring scenarios.\" It's quite very messy.\n",
    "\n",
    "My approach to tackling this problem data is to first thoroughly characterize everywhere we have anomaly in the data, and then decide how to handle each category of anomalies. Even though the dataset was intended to be equidistant, it will be initially treated as a nonequidistant time series."
   ]
  },
  {
   "cell_type": "markdown",
   "metadata": {},
   "source": [
    "# Project: Rapid Gas Discrimination Using An Electronic Nose With An LSTM Model"
   ]
  },
  {
   "cell_type": "markdown",
   "metadata": {},
   "source": [
    "Import all needed packages, including the custom-made package `support_tools`."
   ]
  },
  {
   "cell_type": "code",
   "execution_count": 1,
   "metadata": {},
   "outputs": [],
   "source": [
    "import pandas as pd\n",
    "import numpy as np\n",
    "import tensorflow as tf\n",
    "import tensorboard as tb\n",
    "import os\n",
    "from sklearn import preprocessing, model_selection\n",
    "\n",
    "from support_tools import explore, prepare"
   ]
  },
  {
   "cell_type": "markdown",
   "metadata": {},
   "source": [
    "Load the data"
   ]
  },
  {
   "cell_type": "code",
   "execution_count": 2,
   "metadata": {},
   "outputs": [],
   "source": [
    "raw_metadata = pd.read_table(\"HT_Sensor_UCI_Dataset\\\\HT_Sensor_metadata.dat\")\n",
    "\n",
    "raw_data = pd.read_table(\"HT_Sensor_UCI_Dataset\\\\HT_Sensor_dataset.dat\", \n",
    "                         sep=\"\\s\\s\", engine='python')\n"
   ]
  },
  {
   "cell_type": "code",
   "execution_count": 3,
   "metadata": {
    "scrolled": true
   },
   "outputs": [
    {
     "data": {
      "text/html": [
       "<div>\n",
       "<style scoped>\n",
       "    .dataframe tbody tr th:only-of-type {\n",
       "        vertical-align: middle;\n",
       "    }\n",
       "\n",
       "    .dataframe tbody tr th {\n",
       "        vertical-align: top;\n",
       "    }\n",
       "\n",
       "    .dataframe thead th {\n",
       "        text-align: right;\n",
       "    }\n",
       "</style>\n",
       "<table border=\"1\" class=\"dataframe\">\n",
       "  <thead>\n",
       "    <tr style=\"text-align: right;\">\n",
       "      <th></th>\n",
       "      <th>id</th>\n",
       "      <th>date</th>\n",
       "      <th>class</th>\n",
       "      <th>t0</th>\n",
       "      <th>dt</th>\n",
       "    </tr>\n",
       "  </thead>\n",
       "  <tbody>\n",
       "    <tr>\n",
       "      <th>0</th>\n",
       "      <td>0</td>\n",
       "      <td>07-04-15</td>\n",
       "      <td>banana</td>\n",
       "      <td>13.49</td>\n",
       "      <td>1.64</td>\n",
       "    </tr>\n",
       "    <tr>\n",
       "      <th>1</th>\n",
       "      <td>1</td>\n",
       "      <td>07-05-15</td>\n",
       "      <td>wine</td>\n",
       "      <td>19.61</td>\n",
       "      <td>0.54</td>\n",
       "    </tr>\n",
       "    <tr>\n",
       "      <th>2</th>\n",
       "      <td>2</td>\n",
       "      <td>07-06-15</td>\n",
       "      <td>wine</td>\n",
       "      <td>19.99</td>\n",
       "      <td>0.66</td>\n",
       "    </tr>\n",
       "    <tr>\n",
       "      <th>3</th>\n",
       "      <td>3</td>\n",
       "      <td>07-09-15</td>\n",
       "      <td>banana</td>\n",
       "      <td>6.49</td>\n",
       "      <td>0.72</td>\n",
       "    </tr>\n",
       "    <tr>\n",
       "      <th>4</th>\n",
       "      <td>4</td>\n",
       "      <td>07-09-15</td>\n",
       "      <td>wine</td>\n",
       "      <td>20.07</td>\n",
       "      <td>0.53</td>\n",
       "    </tr>\n",
       "  </tbody>\n",
       "</table>\n",
       "</div>"
      ],
      "text/plain": [
       "   id      date   class     t0    dt\n",
       "0   0  07-04-15  banana  13.49  1.64\n",
       "1   1  07-05-15    wine  19.61  0.54\n",
       "2   2  07-06-15    wine  19.99  0.66\n",
       "3   3  07-09-15  banana   6.49  0.72\n",
       "4   4  07-09-15    wine  20.07  0.53"
      ]
     },
     "metadata": {},
     "output_type": "display_data"
    },
    {
     "data": {
      "text/html": [
       "<div>\n",
       "<style scoped>\n",
       "    .dataframe tbody tr th:only-of-type {\n",
       "        vertical-align: middle;\n",
       "    }\n",
       "\n",
       "    .dataframe tbody tr th {\n",
       "        vertical-align: top;\n",
       "    }\n",
       "\n",
       "    .dataframe thead th {\n",
       "        text-align: right;\n",
       "    }\n",
       "</style>\n",
       "<table border=\"1\" class=\"dataframe\">\n",
       "  <thead>\n",
       "    <tr style=\"text-align: right;\">\n",
       "      <th></th>\n",
       "      <th>id</th>\n",
       "      <th>date</th>\n",
       "      <th>class</th>\n",
       "      <th>t0</th>\n",
       "      <th>dt</th>\n",
       "    </tr>\n",
       "  </thead>\n",
       "  <tbody>\n",
       "    <tr>\n",
       "      <th>95</th>\n",
       "      <td>95</td>\n",
       "      <td>09-11-15</td>\n",
       "      <td>background</td>\n",
       "      <td>12.55</td>\n",
       "      <td>0.57</td>\n",
       "    </tr>\n",
       "    <tr>\n",
       "      <th>96</th>\n",
       "      <td>96</td>\n",
       "      <td>09-14-15</td>\n",
       "      <td>background</td>\n",
       "      <td>13.37</td>\n",
       "      <td>0.94</td>\n",
       "    </tr>\n",
       "    <tr>\n",
       "      <th>97</th>\n",
       "      <td>97</td>\n",
       "      <td>09-15-15</td>\n",
       "      <td>background</td>\n",
       "      <td>14.25</td>\n",
       "      <td>0.72</td>\n",
       "    </tr>\n",
       "    <tr>\n",
       "      <th>98</th>\n",
       "      <td>98</td>\n",
       "      <td>09-16-15</td>\n",
       "      <td>background</td>\n",
       "      <td>14.41</td>\n",
       "      <td>0.71</td>\n",
       "    </tr>\n",
       "    <tr>\n",
       "      <th>99</th>\n",
       "      <td>99</td>\n",
       "      <td>09-17-15</td>\n",
       "      <td>background</td>\n",
       "      <td>11.93</td>\n",
       "      <td>0.68</td>\n",
       "    </tr>\n",
       "  </tbody>\n",
       "</table>\n",
       "</div>"
      ],
      "text/plain": [
       "    id      date       class     t0    dt\n",
       "95  95  09-11-15  background  12.55  0.57\n",
       "96  96  09-14-15  background  13.37  0.94\n",
       "97  97  09-15-15  background  14.25  0.72\n",
       "98  98  09-16-15  background  14.41  0.71\n",
       "99  99  09-17-15  background  11.93  0.68"
      ]
     },
     "metadata": {},
     "output_type": "display_data"
    }
   ],
   "source": [
    "display(raw_metadata.head())\n",
    "display(raw_metadata.tail())"
   ]
  },
  {
   "cell_type": "code",
   "execution_count": 4,
   "metadata": {},
   "outputs": [
    {
     "data": {
      "text/html": [
       "<div>\n",
       "<style scoped>\n",
       "    .dataframe tbody tr th:only-of-type {\n",
       "        vertical-align: middle;\n",
       "    }\n",
       "\n",
       "    .dataframe tbody tr th {\n",
       "        vertical-align: top;\n",
       "    }\n",
       "\n",
       "    .dataframe thead th {\n",
       "        text-align: right;\n",
       "    }\n",
       "</style>\n",
       "<table border=\"1\" class=\"dataframe\">\n",
       "  <thead>\n",
       "    <tr style=\"text-align: right;\">\n",
       "      <th></th>\n",
       "      <th>id</th>\n",
       "      <th>time</th>\n",
       "      <th>R1</th>\n",
       "      <th>R2</th>\n",
       "      <th>R3</th>\n",
       "      <th>R4</th>\n",
       "      <th>R5</th>\n",
       "      <th>R6</th>\n",
       "      <th>R7</th>\n",
       "      <th>R8</th>\n",
       "      <th>Temp.</th>\n",
       "      <th>Humidity</th>\n",
       "    </tr>\n",
       "  </thead>\n",
       "  <tbody>\n",
       "    <tr>\n",
       "      <th>0</th>\n",
       "      <td>0</td>\n",
       "      <td>-0.999750</td>\n",
       "      <td>12.8621</td>\n",
       "      <td>10.3683</td>\n",
       "      <td>10.4383</td>\n",
       "      <td>11.6699</td>\n",
       "      <td>13.4931</td>\n",
       "      <td>13.3423</td>\n",
       "      <td>8.04169</td>\n",
       "      <td>8.73901</td>\n",
       "      <td>26.2257</td>\n",
       "      <td>59.0528</td>\n",
       "    </tr>\n",
       "    <tr>\n",
       "      <th>1</th>\n",
       "      <td>0</td>\n",
       "      <td>-0.999472</td>\n",
       "      <td>12.8617</td>\n",
       "      <td>10.3682</td>\n",
       "      <td>10.4375</td>\n",
       "      <td>11.6697</td>\n",
       "      <td>13.4927</td>\n",
       "      <td>13.3412</td>\n",
       "      <td>8.04133</td>\n",
       "      <td>8.73908</td>\n",
       "      <td>26.2308</td>\n",
       "      <td>59.0299</td>\n",
       "    </tr>\n",
       "    <tr>\n",
       "      <th>2</th>\n",
       "      <td>0</td>\n",
       "      <td>-0.999194</td>\n",
       "      <td>12.8607</td>\n",
       "      <td>10.3686</td>\n",
       "      <td>10.4370</td>\n",
       "      <td>11.6696</td>\n",
       "      <td>13.4924</td>\n",
       "      <td>13.3405</td>\n",
       "      <td>8.04101</td>\n",
       "      <td>8.73915</td>\n",
       "      <td>26.2365</td>\n",
       "      <td>59.0093</td>\n",
       "    </tr>\n",
       "    <tr>\n",
       "      <th>3</th>\n",
       "      <td>0</td>\n",
       "      <td>-0.998916</td>\n",
       "      <td>12.8602</td>\n",
       "      <td>10.3686</td>\n",
       "      <td>10.4370</td>\n",
       "      <td>11.6697</td>\n",
       "      <td>13.4921</td>\n",
       "      <td>13.3398</td>\n",
       "      <td>8.04086</td>\n",
       "      <td>8.73936</td>\n",
       "      <td>26.2416</td>\n",
       "      <td>58.9905</td>\n",
       "    </tr>\n",
       "    <tr>\n",
       "      <th>4</th>\n",
       "      <td>0</td>\n",
       "      <td>-0.998627</td>\n",
       "      <td>12.8595</td>\n",
       "      <td>10.3688</td>\n",
       "      <td>10.4374</td>\n",
       "      <td>11.6699</td>\n",
       "      <td>13.4919</td>\n",
       "      <td>13.3390</td>\n",
       "      <td>8.04087</td>\n",
       "      <td>8.73986</td>\n",
       "      <td>26.2462</td>\n",
       "      <td>58.9736</td>\n",
       "    </tr>\n",
       "  </tbody>\n",
       "</table>\n",
       "</div>"
      ],
      "text/plain": [
       "   id      time       R1       R2       R3       R4       R5       R6  \\\n",
       "0   0 -0.999750  12.8621  10.3683  10.4383  11.6699  13.4931  13.3423   \n",
       "1   0 -0.999472  12.8617  10.3682  10.4375  11.6697  13.4927  13.3412   \n",
       "2   0 -0.999194  12.8607  10.3686  10.4370  11.6696  13.4924  13.3405   \n",
       "3   0 -0.998916  12.8602  10.3686  10.4370  11.6697  13.4921  13.3398   \n",
       "4   0 -0.998627  12.8595  10.3688  10.4374  11.6699  13.4919  13.3390   \n",
       "\n",
       "        R7       R8    Temp.  Humidity  \n",
       "0  8.04169  8.73901  26.2257   59.0528  \n",
       "1  8.04133  8.73908  26.2308   59.0299  \n",
       "2  8.04101  8.73915  26.2365   59.0093  \n",
       "3  8.04086  8.73936  26.2416   58.9905  \n",
       "4  8.04087  8.73986  26.2462   58.9736  "
      ]
     },
     "metadata": {},
     "output_type": "display_data"
    },
    {
     "data": {
      "text/html": [
       "<div>\n",
       "<style scoped>\n",
       "    .dataframe tbody tr th:only-of-type {\n",
       "        vertical-align: middle;\n",
       "    }\n",
       "\n",
       "    .dataframe tbody tr th {\n",
       "        vertical-align: top;\n",
       "    }\n",
       "\n",
       "    .dataframe thead th {\n",
       "        text-align: right;\n",
       "    }\n",
       "</style>\n",
       "<table border=\"1\" class=\"dataframe\">\n",
       "  <thead>\n",
       "    <tr style=\"text-align: right;\">\n",
       "      <th></th>\n",
       "      <th>id</th>\n",
       "      <th>time</th>\n",
       "      <th>R1</th>\n",
       "      <th>R2</th>\n",
       "      <th>R3</th>\n",
       "      <th>R4</th>\n",
       "      <th>R5</th>\n",
       "      <th>R6</th>\n",
       "      <th>R7</th>\n",
       "      <th>R8</th>\n",
       "      <th>Temp.</th>\n",
       "      <th>Humidity</th>\n",
       "    </tr>\n",
       "  </thead>\n",
       "  <tbody>\n",
       "    <tr>\n",
       "      <th>928986</th>\n",
       "      <td>99</td>\n",
       "      <td>1.675182</td>\n",
       "      <td>12.6224</td>\n",
       "      <td>10.5805</td>\n",
       "      <td>10.7432</td>\n",
       "      <td>12.1775</td>\n",
       "      <td>12.6498</td>\n",
       "      <td>17.2926</td>\n",
       "      <td>6.20449</td>\n",
       "      <td>7.05966</td>\n",
       "      <td>27.7282</td>\n",
       "      <td>54.1532</td>\n",
       "    </tr>\n",
       "    <tr>\n",
       "      <th>928987</th>\n",
       "      <td>99</td>\n",
       "      <td>1.675460</td>\n",
       "      <td>12.6236</td>\n",
       "      <td>10.5796</td>\n",
       "      <td>10.7436</td>\n",
       "      <td>12.1780</td>\n",
       "      <td>12.6511</td>\n",
       "      <td>17.2918</td>\n",
       "      <td>6.20444</td>\n",
       "      <td>7.05980</td>\n",
       "      <td>27.7312</td>\n",
       "      <td>54.1423</td>\n",
       "    </tr>\n",
       "    <tr>\n",
       "      <th>928988</th>\n",
       "      <td>99</td>\n",
       "      <td>1.675738</td>\n",
       "      <td>12.6244</td>\n",
       "      <td>10.5795</td>\n",
       "      <td>10.7437</td>\n",
       "      <td>12.1782</td>\n",
       "      <td>12.6524</td>\n",
       "      <td>17.2907</td>\n",
       "      <td>6.20451</td>\n",
       "      <td>7.05967</td>\n",
       "      <td>27.7339</td>\n",
       "      <td>54.1324</td>\n",
       "    </tr>\n",
       "    <tr>\n",
       "      <th>928989</th>\n",
       "      <td>99</td>\n",
       "      <td>1.676016</td>\n",
       "      <td>12.6243</td>\n",
       "      <td>10.5797</td>\n",
       "      <td>10.7440</td>\n",
       "      <td>12.1784</td>\n",
       "      <td>12.6532</td>\n",
       "      <td>17.2904</td>\n",
       "      <td>6.20468</td>\n",
       "      <td>7.05969</td>\n",
       "      <td>27.7364</td>\n",
       "      <td>54.1235</td>\n",
       "    </tr>\n",
       "    <tr>\n",
       "      <th>928990</th>\n",
       "      <td>99</td>\n",
       "      <td>1.676304</td>\n",
       "      <td>12.6248</td>\n",
       "      <td>10.5791</td>\n",
       "      <td>10.7440</td>\n",
       "      <td>12.1784</td>\n",
       "      <td>12.6539</td>\n",
       "      <td>17.2895</td>\n",
       "      <td>6.20461</td>\n",
       "      <td>7.05944</td>\n",
       "      <td>27.7385</td>\n",
       "      <td>54.1154</td>\n",
       "    </tr>\n",
       "  </tbody>\n",
       "</table>\n",
       "</div>"
      ],
      "text/plain": [
       "        id      time       R1       R2       R3       R4       R5       R6  \\\n",
       "928986  99  1.675182  12.6224  10.5805  10.7432  12.1775  12.6498  17.2926   \n",
       "928987  99  1.675460  12.6236  10.5796  10.7436  12.1780  12.6511  17.2918   \n",
       "928988  99  1.675738  12.6244  10.5795  10.7437  12.1782  12.6524  17.2907   \n",
       "928989  99  1.676016  12.6243  10.5797  10.7440  12.1784  12.6532  17.2904   \n",
       "928990  99  1.676304  12.6248  10.5791  10.7440  12.1784  12.6539  17.2895   \n",
       "\n",
       "             R7       R8    Temp.  Humidity  \n",
       "928986  6.20449  7.05966  27.7282   54.1532  \n",
       "928987  6.20444  7.05980  27.7312   54.1423  \n",
       "928988  6.20451  7.05967  27.7339   54.1324  \n",
       "928989  6.20468  7.05969  27.7364   54.1235  \n",
       "928990  6.20461  7.05944  27.7385   54.1154  "
      ]
     },
     "metadata": {},
     "output_type": "display_data"
    }
   ],
   "source": [
    "display(raw_data.head())\n",
    "display(raw_data.tail())"
   ]
  },
  {
   "cell_type": "markdown",
   "metadata": {},
   "source": [
    "Convert time from hours to a different unit. We go with seconds."
   ]
  },
  {
   "cell_type": "code",
   "execution_count": 5,
   "metadata": {},
   "outputs": [],
   "source": [
    "unit_time_per_hour = 3600 # 3600 secs per hour, 60 min per hour.\n",
    "\n",
    "raw_data[\"time\"] *= unit_time_per_hour\n",
    "raw_metadata[\"dt\"] *= unit_time_per_hour"
   ]
  },
  {
   "cell_type": "markdown",
   "metadata": {},
   "source": [
    "As already mentioned in the section \"Messy data\" above, what was intended for the data is not always what is contained in the dataset. The metadata contains what was intended. We need to check it against the actual data to better understand where there are discrepancies."
   ]
  },
  {
   "cell_type": "markdown",
   "metadata": {},
   "source": [
    "Let's identify all stimulations for which no readings were recorded for whatever reason. These are IDs listed in the metadata for which no datapoints in the dataset are associated with."
   ]
  },
  {
   "cell_type": "code",
   "execution_count": 6,
   "metadata": {
    "scrolled": false
   },
   "outputs": [
    {
     "name": "stdout",
     "output_type": "stream",
     "text": [
      "No readings were recorded for stimulation #95\n"
     ]
    }
   ],
   "source": [
    "for id_ in raw_metadata.loc[:, \"id\"]:\n",
    "    if not id_ in raw_data.loc[:, \"id\"].unique():\n",
    "        print(\"No readings were recorded for stimulation #\"+str(id_))"
   ]
  },
  {
   "cell_type": "markdown",
   "metadata": {},
   "source": [
    "Let's check out more intention vs reality. We will verify the following intentions:\n",
    "\n",
    "* Each stimulation is supposed to be preceeded by 3600 seconds (1 hour) of readings. All readings prior to the start of stimulation have a negative timestamp.\n",
    "\n",
    "* Each stimulation is supposed to be followed by 3600 seconds (1 hour) of readings. The duration of each stimulation is provided in the metadata, so any ID in the dataset that has less than 3600 seconds of readings is missing some data."
   ]
  },
  {
   "cell_type": "code",
   "execution_count": 7,
   "metadata": {},
   "outputs": [],
   "source": [
    "# Compute the actual duration of each stimulation (excludes the pre-stimulation readings, \n",
    "# but includes any post-stim readings).\n",
    "\n",
    "actual_durations = []\n",
    "start_times = []\n",
    "last_negative_times = []\n",
    "\n",
    "all_ids = raw_data.loc[:, \"id\"].unique()\n",
    "\n",
    "for id_ in all_ids:\n",
    "    data_id=raw_data.loc[(raw_data[\"id\"]==id_), :]\n",
    "    start_time = data_id.iloc[0, data_id.columns.get_loc(\"time\")]\n",
    "    last_negative_time = data_id.loc[data_id[\"time\"]<0, \"time\"].max()\n",
    "    positive_time_mask = data_id[\"time\"]>=0\n",
    "    data_id_positive_time = data_id.loc[positive_time_mask, :]\n",
    "    pos_time_duration = (data_id[\"time\"].max())\n",
    "    actual_durations.append(pos_time_duration)\n",
    "    start_times.append(start_time)\n",
    "    last_negative_times.append(last_negative_time)"
   ]
  },
  {
   "cell_type": "code",
   "execution_count": 8,
   "metadata": {},
   "outputs": [],
   "source": [
    "actual_intended_stim_durations = np.array([all_ids, actual_durations, \n",
    "                                             raw_metadata.iloc[all_ids, raw_metadata.columns.get_loc(\"dt\")]]).T\n",
    "actual_intended_stim_durations = pd.DataFrame(actual_intended_stim_durations, \n",
    "                                                  columns=[\"id\", \"actual_duration\", \"duration_of_stimulation\"])\n",
    "actual_intended_stim_durations[\"difference\"] = actual_intended_stim_durations[\"actual_duration\"]\\\n",
    "    - actual_intended_stim_durations[\"duration_of_stimulation\"]\n",
    "\n",
    "all_start_times = pd.DataFrame (np.array([all_ids, start_times]).T, columns=[\"id\",\"start_times\"])\n",
    "\n",
    "all_last_negative_times = pd.DataFrame(np.array([all_ids, last_negative_times]).T, \n",
    "                                       columns=[\"id\",\"last_negative_timestamp\"])"
   ]
  },
  {
   "cell_type": "markdown",
   "metadata": {},
   "source": [
    "Let's see the results!"
   ]
  },
  {
   "cell_type": "markdown",
   "metadata": {},
   "source": [
    "There should be roughly 3600 seconds difference between the duration of stimulation and the total duration from start of stimulation to the end of recording. Any deviation points to an anomaly."
   ]
  },
  {
   "cell_type": "code",
   "execution_count": 9,
   "metadata": {
    "scrolled": true
   },
   "outputs": [
    {
     "name": "stdout",
     "output_type": "stream",
     "text": [
      "There are 42 stimulations with anomalies.\n"
     ]
    }
   ],
   "source": [
    "mask = (actual_intended_stim_durations[\"difference\"]<3599) | (actual_intended_stim_durations[\"difference\"]>3601)\n",
    "num_anomalies = len(actual_intended_stim_durations.loc[mask,:].index)\n",
    "print(\"There are \"+str(num_anomalies)+\" stimulations with anomalies.\")\n",
    "\n",
    "# Uncomment the line below to see the anomolous IDs.\n",
    "\n",
    "# display(actual_intended_stim_durations.loc[mask,:])"
   ]
  },
  {
   "cell_type": "markdown",
   "metadata": {},
   "source": [
    "Let's see the stimulations that lack a complete record of the 1-hour pre-exposure."
   ]
  },
  {
   "cell_type": "code",
   "execution_count": 10,
   "metadata": {
    "scrolled": true
   },
   "outputs": [
    {
     "name": "stdout",
     "output_type": "stream",
     "text": [
      "There are 5 stimulations that lack a complete record of the 1-hour pre-exposure.\n"
     ]
    },
    {
     "data": {
      "text/html": [
       "<div>\n",
       "<style scoped>\n",
       "    .dataframe tbody tr th:only-of-type {\n",
       "        vertical-align: middle;\n",
       "    }\n",
       "\n",
       "    .dataframe tbody tr th {\n",
       "        vertical-align: top;\n",
       "    }\n",
       "\n",
       "    .dataframe thead th {\n",
       "        text-align: right;\n",
       "    }\n",
       "</style>\n",
       "<table border=\"1\" class=\"dataframe\">\n",
       "  <thead>\n",
       "    <tr style=\"text-align: right;\">\n",
       "      <th></th>\n",
       "      <th>id</th>\n",
       "      <th>start_times</th>\n",
       "    </tr>\n",
       "  </thead>\n",
       "  <tbody>\n",
       "    <tr>\n",
       "      <th>4</th>\n",
       "      <td>4.0</td>\n",
       "      <td>-75.0204</td>\n",
       "    </tr>\n",
       "    <tr>\n",
       "      <th>11</th>\n",
       "      <td>11.0</td>\n",
       "      <td>-2978.7552</td>\n",
       "    </tr>\n",
       "    <tr>\n",
       "      <th>24</th>\n",
       "      <td>24.0</td>\n",
       "      <td>-1935.5112</td>\n",
       "    </tr>\n",
       "    <tr>\n",
       "      <th>30</th>\n",
       "      <td>30.0</td>\n",
       "      <td>-3520.3716</td>\n",
       "    </tr>\n",
       "    <tr>\n",
       "      <th>98</th>\n",
       "      <td>99.0</td>\n",
       "      <td>-3598.9740</td>\n",
       "    </tr>\n",
       "  </tbody>\n",
       "</table>\n",
       "</div>"
      ],
      "text/plain": [
       "      id  start_times\n",
       "4    4.0     -75.0204\n",
       "11  11.0   -2978.7552\n",
       "24  24.0   -1935.5112\n",
       "30  30.0   -3520.3716\n",
       "98  99.0   -3598.9740"
      ]
     },
     "metadata": {},
     "output_type": "display_data"
    }
   ],
   "source": [
    "mask = all_start_times[\"start_times\"] > -3599\n",
    "\n",
    "num_incomp_preexposure = len(all_start_times.loc[mask, :].index)\n",
    "print(\"There are \"+str(num_incomp_preexposure)+\" stimulations that lack a complete record of the 1-hour pre-exposure.\")\n",
    "\n",
    "\n",
    "# Uncomment the line below to see these IDs.\n",
    "\n",
    "display(all_start_times.loc[mask, :])"
   ]
  },
  {
   "cell_type": "markdown",
   "metadata": {},
   "source": [
    "There are clearly a lot anomalies with the pre-stimulation and post-stimulation recordings. Many of them are not 1 hour long, or are even missing entirely. So, we will proceed to discard them and only focus on the periods of stimulations.\n",
    "\n",
    "Isolate only periods of active stimulation as specified in the metadata:"
   ]
  },
  {
   "cell_type": "code",
   "execution_count": 11,
   "metadata": {},
   "outputs": [],
   "source": [
    "all_active_stims = []\n",
    "for id_ in raw_data.loc[:, \"id\"].unique():\n",
    "    \n",
    "    # isolate a single stretch of stimulation.\n",
    "    mask_id = (raw_data[\"id\"]==id_)\n",
    "    stimulation = raw_data.loc[mask_id, :]\n",
    "    \n",
    "    # get duration of active exposure.\n",
    "    dur_active = raw_metadata.loc[(raw_metadata[\"id\"]==id_), \"dt\"].iat[0]\n",
    "    \n",
    "    # select only data of active exposure (from time 0 till end of duration of active exposure).\n",
    "    active_stim_time_mask = (stimulation[\"time\"]>=0) & (stimulation[\"time\"]<dur_active) \n",
    "    active_stimulation = stimulation.loc[active_stim_time_mask, :]\n",
    "    all_active_stims.append(active_stimulation)\n",
    "    \n",
    "active_data = pd.concat(all_active_stims)"
   ]
  },
  {
   "cell_type": "markdown",
   "metadata": {},
   "source": [
    "Let's scale the data to a range of 0 to 1 in anticipation of training. We won't scale time or id."
   ]
  },
  {
   "cell_type": "code",
   "execution_count": 12,
   "metadata": {},
   "outputs": [],
   "source": [
    "feature_scaler = prepare.MinMaxRescaler()\n",
    "min_active_data = active_data.iloc[:, 2:].min(axis=0).to_numpy().reshape(1,-1)\n",
    "max_active_data = active_data.iloc[:, 2:].max(axis=0).to_numpy().reshape(1,-1)\n",
    "\n",
    "active_data.iloc[:, 2:] = feature_scaler.rescale(active_data.iloc[:, 2:], [min_active_data, max_active_data])\n"
   ]
  },
  {
   "cell_type": "markdown",
   "metadata": {},
   "source": [
    "One thing is very clear so far. Enough datapoints that are missing to just simply ignore the issue. We need a more comprehensive approach to better identify these anomalies.\n",
    "\n",
    "We know that the periodicity of the dataset is supposed to be 1 second. Therefore anywhere the time gap between a datapoint and the next (let's call this the ***local periodicity*** of that datapoint) is considerably different from 1 second, we will know for certain that something went wrong there with the readings."
   ]
  },
  {
   "cell_type": "markdown",
   "metadata": {},
   "source": [
    "Get the local periodicity of each datapoint (i.e. time difference between each datapoint and the next). "
   ]
  },
  {
   "cell_type": "code",
   "execution_count": 13,
   "metadata": {},
   "outputs": [
    {
     "data": {
      "text/html": [
       "<div>\n",
       "<style scoped>\n",
       "    .dataframe tbody tr th:only-of-type {\n",
       "        vertical-align: middle;\n",
       "    }\n",
       "\n",
       "    .dataframe tbody tr th {\n",
       "        vertical-align: top;\n",
       "    }\n",
       "\n",
       "    .dataframe thead th {\n",
       "        text-align: right;\n",
       "    }\n",
       "</style>\n",
       "<table border=\"1\" class=\"dataframe\">\n",
       "  <thead>\n",
       "    <tr style=\"text-align: right;\">\n",
       "      <th></th>\n",
       "      <th>id</th>\n",
       "      <th>time</th>\n",
       "      <th>local_periodicity</th>\n",
       "    </tr>\n",
       "  </thead>\n",
       "  <tbody>\n",
       "    <tr>\n",
       "      <th>3429</th>\n",
       "      <td>0</td>\n",
       "      <td>0.0756</td>\n",
       "      <td>1.0368</td>\n",
       "    </tr>\n",
       "    <tr>\n",
       "      <th>3430</th>\n",
       "      <td>0</td>\n",
       "      <td>1.1124</td>\n",
       "      <td>1.0008</td>\n",
       "    </tr>\n",
       "    <tr>\n",
       "      <th>3431</th>\n",
       "      <td>0</td>\n",
       "      <td>2.1132</td>\n",
       "      <td>1.0008</td>\n",
       "    </tr>\n",
       "    <tr>\n",
       "      <th>3432</th>\n",
       "      <td>0</td>\n",
       "      <td>3.1140</td>\n",
       "      <td>1.0044</td>\n",
       "    </tr>\n",
       "    <tr>\n",
       "      <th>3433</th>\n",
       "      <td>0</td>\n",
       "      <td>4.1184</td>\n",
       "      <td>1.0008</td>\n",
       "    </tr>\n",
       "  </tbody>\n",
       "</table>\n",
       "</div>"
      ],
      "text/plain": [
       "      id    time  local_periodicity\n",
       "3429   0  0.0756             1.0368\n",
       "3430   0  1.1124             1.0008\n",
       "3431   0  2.1132             1.0008\n",
       "3432   0  3.1140             1.0044\n",
       "3433   0  4.1184             1.0008"
      ]
     },
     "execution_count": 13,
     "metadata": {},
     "output_type": "execute_result"
    }
   ],
   "source": [
    "all_local_periods = explore.local_periodicity(df=active_data)\n",
    "all_local_periods.head()"
   ]
  },
  {
   "cell_type": "markdown",
   "metadata": {},
   "source": [
    "How many datapoints have local periodicities that deviate considerably from 1 second."
   ]
  },
  {
   "cell_type": "code",
   "execution_count": 14,
   "metadata": {},
   "outputs": [
    {
     "name": "stdout",
     "output_type": "stream",
     "text": [
      "There are 51641 datapoints out of 253713 with local periodicity greater than 1 second.\n"
     ]
    }
   ],
   "source": [
    "mask = (all_local_periods[\"local_periodicity\"] < 0.999) | (all_local_periods[\"local_periodicity\"] > 1.001)\n",
    "\n",
    "num1 = len(all_local_periods.loc[mask,:].index)\n",
    "num2 = len(active_data.index)\n",
    "print(\"There are {} datapoints out of {} with local periodicity greater than 1 second.\".format(num1, num2))"
   ]
  },
  {
   "cell_type": "markdown",
   "metadata": {},
   "source": [
    "That's a huge chunk of our dataset with local periodicities that deviate from 1 second. But let's loosen the bound and assume that every gap that falls within 0.9 to 1.1 second is approximately 1 second."
   ]
  },
  {
   "cell_type": "code",
   "execution_count": 15,
   "metadata": {},
   "outputs": [
    {
     "name": "stdout",
     "output_type": "stream",
     "text": [
      "There are 1064 datapoints out of 253713 with local periodicity greater than 1 second.\n"
     ]
    }
   ],
   "source": [
    "mask = (all_local_periods[\"local_periodicity\"] < 0.9) | (all_local_periods[\"local_periodicity\"] > 1.1)\n",
    "\n",
    "num1 = len(all_local_periods.loc[mask,:].index)\n",
    "num2 = len(active_data.index)\n",
    "print(\"There are {} datapoints out of {} with local periodicity greater than 1 second.\".format(num1, num2))"
   ]
  },
  {
   "cell_type": "markdown",
   "metadata": {},
   "source": [
    "That's a lot better. But how big are these gaps? Let's get the average local periodicity among these that are greater than 1 second."
   ]
  },
  {
   "cell_type": "code",
   "execution_count": 16,
   "metadata": {},
   "outputs": [
    {
     "name": "stdout",
     "output_type": "stream",
     "text": [
      "The average local periodicity greater than 1 second is 14.72 seconds.\n"
     ]
    }
   ],
   "source": [
    "mask = (all_local_periods[\"local_periodicity\"] > 1.1)\n",
    "\n",
    "num1 = all_local_periods.loc[mask,\"local_periodicity\"].mean()\n",
    "print(\"The average local periodicity greater than 1 second is {:.2f} seconds.\".format(num1))"
   ]
  },
  {
   "cell_type": "markdown",
   "metadata": {},
   "source": [
    "How many gaps very big, e.g. bigger than 120 seconds?"
   ]
  },
  {
   "cell_type": "code",
   "execution_count": 17,
   "metadata": {},
   "outputs": [
    {
     "name": "stdout",
     "output_type": "stream",
     "text": [
      "There are 27 datapoints out of 253713 with local periodicity greater than 120 seconds.\n"
     ]
    }
   ],
   "source": [
    "mask = (all_local_periods[\"local_periodicity\"] > 120)\n",
    "\n",
    "num1 = len(all_local_periods.loc[mask,:].index)\n",
    "num2 = len(active_data.index)\n",
    "print(\"There are {} datapoints out of {} with local periodicity greater than 120 seconds.\".format(num1, num2))"
   ]
  },
  {
   "cell_type": "markdown",
   "metadata": {},
   "source": [
    "Let's find and plot one of the IDs with large gaps"
   ]
  },
  {
   "cell_type": "code",
   "execution_count": 18,
   "metadata": {},
   "outputs": [
    {
     "data": {
      "image/png": "[encoded data removed]",
      "text/plain": [
       "<Figure size 720x1440 with 10 Axes>"
      ]
     },
     "metadata": {
      "needs_background": "light"
     },
     "output_type": "display_data"
    }
   ],
   "source": [
    "mask = (all_local_periods[\"local_periodicity\"] > 120)\n",
    "\n",
    "# ID with most number of large gaps.\n",
    "id_most_lgaps = all_local_periods.loc[mask,\"id\"].mode().iat[0]\n",
    "\n",
    "axes = active_data.loc[(active_data[\"id\"]==id_most_lgaps),:].plot(x=\"time\", y = active_data.columns[2:], \n",
    "                                                 sharex=True, subplots=True, figsize=(10, 20))"
   ]
  },
  {
   "cell_type": "markdown",
   "metadata": {},
   "source": [
    "We can see the sudden straight lines that occur at the same place in all the plots above, and those are where the large gaps occur. Let's compare with another ID that has no large gaps."
   ]
  },
  {
   "cell_type": "code",
   "execution_count": 19,
   "metadata": {},
   "outputs": [
    {
     "data": {
      "image/png": "[encoded data removed]",
      "text/plain": [
       "<Figure size 720x1440 with 10 Axes>"
      ]
     },
     "metadata": {
      "needs_background": "light"
     },
     "output_type": "display_data"
    }
   ],
   "source": [
    "mask = (all_local_periods[\"local_periodicity\"] > 0.9) & (all_local_periods[\"local_periodicity\"] < 1.1)\n",
    "\n",
    "id_min_gaps = all_local_periods.loc[mask,\"id\"].iloc[0]\n",
    "axes = active_data.loc[(active_data[\"id\"]==id_min_gaps),:].plot(x=\"time\", y = active_data.columns[2:], \n",
    "                                                 sharex=True, subplots=True, figsize=(10, 20))"
   ]
  },
  {
   "cell_type": "markdown",
   "metadata": {},
   "source": [
    "Now we know there are a few large, anomalous gaps in our dataset, and a much greater number of small gaps. We need to establish a way to handle these gaps.\n",
    "\n",
    "Small gaps: We can simply ignore them, because we intend to resmaple the data to a lower frequency before training. The resampling involves averaging several datapoints and using the resulting value as the new sample.\n",
    "\n",
    "Big gaps: We must exclude them. The two set of plots above does not give leave confident with simply using linear interpolation to fill in the missing gaps. We can't have a sequence with several minutes of gap between one step and the next, while the rest of the local periodicities are close to 1 second. This leads to the idea of contiguous spans in our dataset.\n",
    "\n",
    "A **contiguous spans** is simply a segment of our dataset in which all the time gaps (local periodicities) are less than a given threshold value (`largest_acceptable_gap`). This threshold value draws the line between small gaps that will be included and averaged out, and big gaps that will be bypassed."
   ]
  },
  {
   "cell_type": "markdown",
   "metadata": {},
   "source": [
    "Let's set the largest acceptable gap to 10 seconds. That is, we identify all the segments (spans) of data within each ID where there are no gaps larger than 10 seconds."
   ]
  },
  {
   "cell_type": "code",
   "execution_count": 20,
   "metadata": {},
   "outputs": [
    {
     "data": {
      "text/html": [
       "<div>\n",
       "<style scoped>\n",
       "    .dataframe tbody tr th:only-of-type {\n",
       "        vertical-align: middle;\n",
       "    }\n",
       "\n",
       "    .dataframe tbody tr th {\n",
       "        vertical-align: top;\n",
       "    }\n",
       "\n",
       "    .dataframe thead th {\n",
       "        text-align: right;\n",
       "    }\n",
       "</style>\n",
       "<table border=\"1\" class=\"dataframe\">\n",
       "  <thead>\n",
       "    <tr style=\"text-align: right;\">\n",
       "      <th></th>\n",
       "      <th>id</th>\n",
       "      <th>start_index</th>\n",
       "      <th>end_index</th>\n",
       "      <th>start_time</th>\n",
       "      <th>end_time</th>\n",
       "      <th>duration</th>\n",
       "    </tr>\n",
       "  </thead>\n",
       "  <tbody>\n",
       "    <tr>\n",
       "      <th>3429</th>\n",
       "      <td>0</td>\n",
       "      <td>3429</td>\n",
       "      <td>9270</td>\n",
       "      <td>0.0756</td>\n",
       "      <td>5903.1972</td>\n",
       "      <td>5903.1216</td>\n",
       "    </tr>\n",
       "    <tr>\n",
       "      <th>16385</th>\n",
       "      <td>1</td>\n",
       "      <td>16385</td>\n",
       "      <td>18309</td>\n",
       "      <td>0.4392</td>\n",
       "      <td>1943.5464</td>\n",
       "      <td>1943.1072</td>\n",
       "    </tr>\n",
       "    <tr>\n",
       "      <th>25300</th>\n",
       "      <td>2</td>\n",
       "      <td>25300</td>\n",
       "      <td>27653</td>\n",
       "      <td>0.4860</td>\n",
       "      <td>2375.1684</td>\n",
       "      <td>2374.6824</td>\n",
       "    </tr>\n",
       "    <tr>\n",
       "      <th>34798</th>\n",
       "      <td>3</td>\n",
       "      <td>34798</td>\n",
       "      <td>35143</td>\n",
       "      <td>0.7164</td>\n",
       "      <td>354.1932</td>\n",
       "      <td>353.4768</td>\n",
       "    </tr>\n",
       "    <tr>\n",
       "      <th>35144</th>\n",
       "      <td>3</td>\n",
       "      <td>35144</td>\n",
       "      <td>37234</td>\n",
       "      <td>484.9704</td>\n",
       "      <td>2591.9748</td>\n",
       "      <td>2107.0044</td>\n",
       "    </tr>\n",
       "    <tr>\n",
       "      <th>...</th>\n",
       "      <td>...</td>\n",
       "      <td>...</td>\n",
       "      <td>...</td>\n",
       "      <td>...</td>\n",
       "      <td>...</td>\n",
       "      <td>...</td>\n",
       "    </tr>\n",
       "    <tr>\n",
       "      <th>883304</th>\n",
       "      <td>94</td>\n",
       "      <td>883304</td>\n",
       "      <td>886126</td>\n",
       "      <td>0.4680</td>\n",
       "      <td>2843.4168</td>\n",
       "      <td>2842.9488</td>\n",
       "    </tr>\n",
       "    <tr>\n",
       "      <th>893251</th>\n",
       "      <td>96</td>\n",
       "      <td>893251</td>\n",
       "      <td>896606</td>\n",
       "      <td>1.0332</td>\n",
       "      <td>3383.8344</td>\n",
       "      <td>3382.8012</td>\n",
       "    </tr>\n",
       "    <tr>\n",
       "      <th>903599</th>\n",
       "      <td>97</td>\n",
       "      <td>903599</td>\n",
       "      <td>906174</td>\n",
       "      <td>0.2916</td>\n",
       "      <td>2591.3808</td>\n",
       "      <td>2591.0892</td>\n",
       "    </tr>\n",
       "    <tr>\n",
       "      <th>913329</th>\n",
       "      <td>98</td>\n",
       "      <td>913329</td>\n",
       "      <td>915867</td>\n",
       "      <td>0.4428</td>\n",
       "      <td>2555.0028</td>\n",
       "      <td>2554.5600</td>\n",
       "    </tr>\n",
       "    <tr>\n",
       "      <th>923006</th>\n",
       "      <td>99</td>\n",
       "      <td>923006</td>\n",
       "      <td>925432</td>\n",
       "      <td>0.7884</td>\n",
       "      <td>2447.4600</td>\n",
       "      <td>2446.6716</td>\n",
       "    </tr>\n",
       "  </tbody>\n",
       "</table>\n",
       "<p>126 rows × 6 columns</p>\n",
       "</div>"
      ],
      "text/plain": [
       "        id  start_index end_index  start_time   end_time   duration\n",
       "3429     0         3429      9270      0.0756  5903.1972  5903.1216\n",
       "16385    1        16385     18309      0.4392  1943.5464  1943.1072\n",
       "25300    2        25300     27653      0.4860  2375.1684  2374.6824\n",
       "34798    3        34798     35143      0.7164   354.1932   353.4768\n",
       "35144    3        35144     37234    484.9704  2591.9748  2107.0044\n",
       "...     ..          ...       ...         ...        ...        ...\n",
       "883304  94       883304    886126      0.4680  2843.4168  2842.9488\n",
       "893251  96       893251    896606      1.0332  3383.8344  3382.8012\n",
       "903599  97       903599    906174      0.2916  2591.3808  2591.0892\n",
       "913329  98       913329    915867      0.4428  2555.0028  2554.5600\n",
       "923006  99       923006    925432      0.7884  2447.4600  2446.6716\n",
       "\n",
       "[126 rows x 6 columns]"
      ]
     },
     "metadata": {},
     "output_type": "display_data"
    }
   ],
   "source": [
    "largest_acceptable_gap=10\n",
    "all_contiguous_spans = explore.get_all_contiguous_spans(active_data, largest_acceptable_gap)\n",
    "\n",
    "display(all_contiguous_spans)"
   ]
  },
  {
   "cell_type": "markdown",
   "metadata": {},
   "source": [
    "Using information of all the contiguous spans, we resample our data into an equidistant time series with periodicity of 20 seconds (0.05 Hz). Huerta et al (2016) found that as periodicity increases the predictive power of their energy band model declined, so they adviced against using periodicity higher than 120 seconds. They used 60 seconds. Therefore our choice of 20-second periodicity seems very safe.\n",
    "\n",
    "Eventually, we will fold our data into a 3D array of sequences, where each sequence is 10 minutes (600 seconds) long. We are using the same 10 minutes used by Huerta et al (2016) for their SVM model. This means that any contiguous span that cannot produce a full sequence is not suitable and cannot be used for training, and therefore there is no benefit in resmapling such a contiguous span. "
   ]
  },
  {
   "cell_type": "code",
   "execution_count": 21,
   "metadata": {},
   "outputs": [],
   "source": [
    "\n",
    "resampled_periodicity = 20\n",
    "duration_seq = 600\n",
    "seq_len=duration_seq//resampled_periodicity\n",
    "\n",
    "# OR:\n",
    "# seq_len=30\n",
    "# duration_seq = seq_len * resampled_periodicity\n",
    "\n",
    "all_resampled_suitable_spans = dict()\n",
    "\n",
    "all_ids = active_data.loc[:, \"id\"].unique()\n",
    "for i, id_ in enumerate(all_ids):\n",
    "    # isolate a single stretch of active exposure to stimuli.\n",
    "    mask_id = (active_data[\"id\"]==id_)\n",
    "    active_stimulation = active_data.loc[mask_id, :]\n",
    "     \n",
    "    # Get the start indices of all suitable contiguous spans.\n",
    "    # Suitable spans are those that can produce at least one sequence.\n",
    "    \n",
    "    mask_suitable_spans = (all_contiguous_spans[\"id\"]==id_) & \\\n",
    "        (all_contiguous_spans[\"duration\"]>duration_seq)\n",
    "    \n",
    "    suitable_spans_range_ind = all_contiguous_spans.loc[mask_suitable_spans.to_numpy(), \n",
    "                                                        [\"start_index\", \"end_index\"]]\n",
    "    \n",
    "    # resample each suitable contiguous span.\n",
    "    \n",
    "    all_resampled_suitable_spans[id_] = list()\n",
    "    for start_ind, end_ind in suitable_spans_range_ind.itertuples(index=False):\n",
    "        suitable_span = active_stimulation.loc[start_ind:end_ind, :]\n",
    "\n",
    "        resampled_suitable_span, _ = prepare.segment_and_resample(suitable_span.to_numpy(), \n",
    "                                            resampled_periodicity, \n",
    "                                            index_time_field=suitable_span.columns.get_loc(\"time\"),\n",
    "                                            enforce_contiguity=True)\n",
    "        \n",
    "        all_resampled_suitable_spans[id_].append(resampled_suitable_span)"
   ]
  },
  {
   "cell_type": "code",
   "execution_count": 22,
   "metadata": {},
   "outputs": [
    {
     "name": "stdout",
     "output_type": "stream",
     "text": [
      "[[0.00000000e+00 1.01896000e+01 8.95700733e-01 ... 6.80085195e-02\n",
      "  3.50926152e-01 5.84161732e-01]\n",
      " [0.00000000e+00 3.01120200e+01 8.62093283e-01 ... 4.96129225e-02\n",
      "  3.59842657e-01 5.97773217e-01]\n",
      " [0.00000000e+00 5.02795800e+01 8.57030526e-01 ... 4.61782106e-02\n",
      "  3.63658753e-01 6.08487890e-01]\n",
      " ...\n",
      " [9.90000000e+01 2.40836814e+03 8.91033404e-01 ... 5.82400938e-02\n",
      "  5.37058342e-01 4.12051365e-01]\n",
      " [9.90000000e+01 2.42851932e+03 8.90125117e-01 ... 5.82200570e-02\n",
      "  5.24502210e-01 4.18413548e-01]\n",
      " [9.90000000e+01 2.44341051e+03 8.89401070e-01 ... 5.81773776e-02\n",
      "  5.27472910e-01 4.16285402e-01]]\n"
     ]
    }
   ],
   "source": [
    "# This is not really needed for latter operations.\n",
    "\n",
    "# Consolidate the resmapled spans (optional).\n",
    "all_resampled_active_stim = []\n",
    "ids_not_used = []\n",
    "all_ids = active_data.loc[:, \"id\"].unique()\n",
    "for i, id_ in enumerate(all_ids):\n",
    "    if len(all_resampled_suitable_spans[id_]) > 0:      \n",
    "        resampled_active_stim = np.array(all_resampled_suitable_spans[id_][0])\n",
    "        all_resampled_active_stim.append(resampled_active_stim)\n",
    "    else: # if empty\n",
    "        ids_not_used.append(id_)\n",
    "resampled_active_data = np.concatenate(all_resampled_active_stim)\n",
    "print(resampled_active_data)"
   ]
  },
  {
   "cell_type": "markdown",
   "metadata": {},
   "source": [
    "All the data suitable for training is in `all_resampled_suitable_spans`. Next step is to fold it into a 3D array of sequences that [TensorFlow expects](https://www.tensorflow.org/versions/r2.0/api_docs/python/tf/keras/layers/RNN#used-in-the-notebooks)."
   ]
  },
  {
   "cell_type": "code",
   "execution_count": 23,
   "metadata": {},
   "outputs": [],
   "source": [
    "# fold all the suitable resampled spans into the required shape for training.\n",
    "\n",
    "all_folded_spans=[]\n",
    "all_onehots=[]\n",
    "\n",
    "onehot_encoder = preprocessing.OneHotEncoder()\n",
    "onehot_encoder.fit(raw_metadata[\"class\"].unique().reshape(-1, 1))\n",
    "\n",
    "for id_ in all_resampled_suitable_spans.keys():\n",
    "    time_field_ind = 0\n",
    "    for resampled_suitable_span in all_resampled_suitable_spans[id_]:\n",
    "        # drop the id and time columns.\n",
    "        temp = np.delete(resampled_suitable_span, [0, 1], axis = 1)\n",
    "        folded_span = prepare.fold_into_overlapping_sequences(temp,\n",
    "                                        seq_len, \n",
    "                                        fields_to_zero_tare = None)\n",
    "        \n",
    "        stimulation_class_mask = (raw_metadata[\"id\"]==id_)\n",
    "        stimulation_class = raw_metadata.loc[stimulation_class_mask, \"class\"]\n",
    "        stim_classes = np.repeat(stimulation_class.to_numpy(), folded_span.shape[0]).reshape(-1, 1)\n",
    "        all_folded_spans.append(folded_span)\n",
    "\n",
    "        all_onehots.append(onehot_encoder.transform(stim_classes).toarray())\n",
    "\n",
    "x = np.concatenate(all_folded_spans)\n",
    "y = np.concatenate(all_onehots)"
   ]
  },
  {
   "cell_type": "markdown",
   "metadata": {},
   "source": [
    "## Learning"
   ]
  },
  {
   "cell_type": "markdown",
   "metadata": {},
   "source": [
    "Split the data into train and test sets (and shuffle as well). The test set (can also be called validation set) will be used to evaluate the model after each epoch."
   ]
  },
  {
   "cell_type": "code",
   "execution_count": 24,
   "metadata": {},
   "outputs": [],
   "source": [
    "train_size=0.8\n",
    "x_train, x_test, y_train, y_test = model_selection.train_test_split(\n",
    "    x, y, train_size=train_size, shuffle=True, random_state=77)"
   ]
  },
  {
   "cell_type": "markdown",
   "metadata": {},
   "source": [
    "Set up a 2-layer LSTM with a softmax head. Apply dropout regularization to the input of the 2nd hidden layer."
   ]
  },
  {
   "cell_type": "code",
   "execution_count": 25,
   "metadata": {},
   "outputs": [],
   "source": [
    "\n",
    "input_layer_tensor = tf.keras.Input(shape=x.shape[1:])\n",
    "output = tf.keras.layers.LSTM(32, return_sequences=True)(input_layer_tensor)\n",
    "output = tf.keras.layers.Dropout(0.3)(output)\n",
    "output = tf.keras.layers.LSTM(64, return_sequences=False)(output)\n",
    "output = tf.keras.layers.Dense(3)(output)\n",
    "output_layer_tensor = tf.keras.layers.Softmax()(output)\n",
    "\n",
    "model = tf.keras.Model(input_layer_tensor, output_layer_tensor)\n"
   ]
  },
  {
   "cell_type": "markdown",
   "metadata": {},
   "source": [
    "Set up callbacks."
   ]
  },
  {
   "cell_type": "code",
   "execution_count": 26,
   "metadata": {},
   "outputs": [],
   "source": [
    "all_callbacks = []\n",
    "\n",
    "# callback for making checkpoints during training.\n",
    "\n",
    "checkpoint_filepath = os.path.join(\"logs\", \"main\", \"model_checkpoints\", \"{epoch}\")\n",
    "\n",
    "all_callbacks.append(\n",
    "    tf.keras.callbacks.ModelCheckpoint(filepath=checkpoint_filepath,\n",
    "                                      monitor='val_loss',\n",
    "                                      verbose=1, save_weights_only=False,\n",
    "                                      save_best_only=True))\n",
    "\n",
    "#callback for TensorBoard.\n",
    "\n",
    "tensorboard_logdir=os.path.join(\"logs\", \"main\", \"tensorboard_events\")\n",
    "\n",
    "all_callbacks.append(\n",
    "    tf.keras.callbacks.TensorBoard(log_dir=tensorboard_logdir,\n",
    "                                   histogram_freq=1,\n",
    "                                   write_graph=False, profile_batch = 0))\n"
   ]
  },
  {
   "cell_type": "code",
   "execution_count": 27,
   "metadata": {},
   "outputs": [],
   "source": [
    "os.makedirs(\"logs/main/model_checkpoints\", exist_ok=True)\n",
    "os.makedirs(tensorboard_logdir, exist_ok=True)"
   ]
  },
  {
   "cell_type": "markdown",
   "metadata": {},
   "source": [
    "For the optimizer, we use adaptive moment estimation (Adam), but instead of the default values proposed in the original paper, we use values that give a bit more weighting to older batches; hence `beta_1` < 0.9 and `beta_2` < 0.99."
   ]
  },
  {
   "cell_type": "code",
   "execution_count": 28,
   "metadata": {},
   "outputs": [],
   "source": [
    "optimizer=tf.keras.optimizers.Adam(learning_rate=0.001, beta_1=0.85, \n",
    "                                   beta_2=0.95, epsilon=1e-07, amsgrad=False)\n",
    "loss= tf.keras.losses.CategoricalCrossentropy()\n",
    "metrics=[tf.keras.metrics.CategoricalCrossentropy(), tf.keras.metrics.CategoricalAccuracy()]"
   ]
  },
  {
   "cell_type": "code",
   "execution_count": 29,
   "metadata": {},
   "outputs": [],
   "source": [
    "model.compile(optimizer=optimizer, loss=loss, metrics=metrics)"
   ]
  },
  {
   "cell_type": "code",
   "execution_count": 30,
   "metadata": {},
   "outputs": [
    {
     "data": {
      "image/png": "[encoded data removed]",
      "text/plain": [
       "<IPython.core.display.Image object>"
      ]
     },
     "execution_count": 30,
     "metadata": {},
     "output_type": "execute_result"
    }
   ],
   "source": [
    "tf.keras.utils.plot_model(model, 'logs/main/lstm_model.png', show_shapes=True, expand_nested=True)\n"
   ]
  },
  {
   "cell_type": "markdown",
   "metadata": {},
   "source": [
    "We use TensorFlow's Dataset API to feed data to the model (not necessary)."
   ]
  },
  {
   "cell_type": "code",
   "execution_count": 31,
   "metadata": {},
   "outputs": [],
   "source": [
    "batch_size=128\n",
    "\n",
    "train_data = tf.data.Dataset.from_tensor_slices((x_train, y_train))\n",
    "train_data = train_data.cache().repeat().batch(batch_size)\n",
    "\n",
    "test_data = tf.data.Dataset.from_tensor_slices((x_test, y_test))\n",
    "test_data = test_data.batch(batch_size).repeat()\n"
   ]
  },
  {
   "cell_type": "markdown",
   "metadata": {},
   "source": [
    "Run TensorBoard (TensorFlow's visualization toolkit) in Jupyter to monitor progress of training in realtime.\n",
    "\n",
    "<font color = red>You may have to run the code cell below twice due to an [existing bug](https://github.com/tensorflow/tensorboard/issues/2483) as of TensorFlow 2.3</font>. The first time will result in a timeout error. The second time should work, or you get the error message \"localhost refused to connect\" (usually because TensorBoard doesn't properly clean up after itself on Windows), in which case, you may consider trying a different port number.\n"
   ]
  },
  {
   "cell_type": "code",
   "execution_count": 32,
   "metadata": {
    "scrolled": false
   },
   "outputs": [
    {
     "data": {
      "text/plain": [
       "Reusing TensorBoard on port 8004 (pid 2844), started 0:01:56 ago. (Use '!kill 2844' to kill it.)"
      ]
     },
     "metadata": {},
     "output_type": "display_data"
    },
    {
     "data": {
      "text/html": [
       "\n",
       "      <iframe id=\"tensorboard-frame-ddb443b287d38115\" width=\"100%\" height=\"800\" frameborder=\"0\">\n",
       "      </iframe>\n",
       "      <script>\n",
       "        (function() {\n",
       "          const frame = document.getElementById(\"tensorboard-frame-ddb443b287d38115\");\n",
       "          const url = new URL(\"/\", window.location);\n",
       "          url.port = 8004;\n",
       "          frame.src = url;\n",
       "        })();\n",
       "      </script>\n",
       "  "
      ],
      "text/plain": [
       "<IPython.core.display.HTML object>"
      ]
     },
     "metadata": {},
     "output_type": "display_data"
    }
   ],
   "source": [
    "%load_ext tensorboard\n",
    "%tensorboard --logdir \"logs/main/tensorboard_events\" --port=8004\n",
    "# tb.notebook.display(port=8008, height=1000)"
   ]
  },
  {
   "cell_type": "code",
   "execution_count": 33,
   "metadata": {},
   "outputs": [
    {
     "name": "stdout",
     "output_type": "stream",
     "text": [
      "Train for 58 steps, validate for 5 steps\n",
      "Epoch 1/50\n",
      "57/58 [============================>.] - ETA: 0s - loss: 0.7962 - categorical_crossentropy: 0.7962 - categorical_accuracy: 0.6255\n",
      "Epoch 00001: val_loss improved from inf to 0.64318, saving model to logs\\main\\model_checkpoints\\1\n",
      "WARNING:tensorflow:From C:\\ProgramData\\Anaconda3\\lib\\site-packages\\tensorflow_core\\python\\ops\\resource_variable_ops.py:1786: calling BaseResourceVariable.__init__ (from tensorflow.python.ops.resource_variable_ops) with constraint is deprecated and will be removed in a future version.\n",
      "Instructions for updating:\n",
      "If using Keras pass *_constraint arguments to layers.\n",
      "INFO:tensorflow:Assets written to: logs\\main\\model_checkpoints\\1\\assets\n",
      "58/58 [==============================] - 18s 319ms/step - loss: 0.7937 - categorical_crossentropy: 0.7937 - categorical_accuracy: 0.6269 - val_loss: 0.6432 - val_categorical_crossentropy: 0.6432 - val_categorical_accuracy: 0.7219\n",
      "Epoch 2/50\n",
      "57/58 [============================>.] - ETA: 0s - loss: 0.6157 - categorical_crossentropy: 0.6157 - categorical_accuracy: 0.7296\n",
      "Epoch 00002: val_loss improved from 0.64318 to 0.54379, saving model to logs\\main\\model_checkpoints\\2\n",
      "INFO:tensorflow:Assets written to: logs\\main\\model_checkpoints\\2\\assets\n",
      "58/58 [==============================] - 14s 244ms/step - loss: 0.6136 - categorical_crossentropy: 0.6136 - categorical_accuracy: 0.7309 - val_loss: 0.5438 - val_categorical_crossentropy: 0.5438 - val_categorical_accuracy: 0.7594\n",
      "Epoch 3/50\n",
      "57/58 [============================>.] - ETA: 0s - loss: 0.5356 - categorical_crossentropy: 0.5356 - categorical_accuracy: 0.7836\n",
      "Epoch 00003: val_loss improved from 0.54379 to 0.49192, saving model to logs\\main\\model_checkpoints\\3\n",
      "INFO:tensorflow:Assets written to: logs\\main\\model_checkpoints\\3\\assets\n",
      "58/58 [==============================] - 14s 248ms/step - loss: 0.5350 - categorical_crossentropy: 0.5350 - categorical_accuracy: 0.7839 - val_loss: 0.4919 - val_categorical_crossentropy: 0.4919 - val_categorical_accuracy: 0.8078\n",
      "Epoch 4/50\n",
      "57/58 [============================>.] - ETA: 0s - loss: 0.4828 - categorical_crossentropy: 0.4828 - categorical_accuracy: 0.8115- ETA: 1s - loss: 0.5058 - categorical_crossentropy: 0.5058 - categorical\n",
      "Epoch 00004: val_loss improved from 0.49192 to 0.39718, saving model to logs\\main\\model_checkpoints\\4\n",
      "INFO:tensorflow:Assets written to: logs\\main\\model_checkpoints\\4\\assets\n",
      "58/58 [==============================] - 14s 249ms/step - loss: 0.4814 - categorical_crossentropy: 0.4814 - categorical_accuracy: 0.8118 - val_loss: 0.3972 - val_categorical_crossentropy: 0.3972 - val_categorical_accuracy: 0.8391\n",
      "Epoch 5/50\n",
      "57/58 [============================>.] - ETA: 0s - loss: 0.4344 - categorical_crossentropy: 0.4344 - categorical_accuracy: 0.8288\n",
      "Epoch 00005: val_loss improved from 0.39718 to 0.36513, saving model to logs\\main\\model_checkpoints\\5\n",
      "INFO:tensorflow:Assets written to: logs\\main\\model_checkpoints\\5\\assets\n",
      "58/58 [==============================] - 15s 252ms/step - loss: 0.4330 - categorical_crossentropy: 0.4330 - categorical_accuracy: 0.8297 - val_loss: 0.3651 - val_categorical_crossentropy: 0.3651 - val_categorical_accuracy: 0.8453\n",
      "Epoch 6/50\n",
      "56/58 [===========================>..] - ETA: 0s - loss: 0.3506 - categorical_crossentropy: 0.3506 - categorical_accuracy: 0.8675\n",
      "Epoch 00006: val_loss did not improve from 0.36513\n",
      "58/58 [==============================] - 3s 60ms/step - loss: 0.3509 - categorical_crossentropy: 0.3509 - categorical_accuracy: 0.8679 - val_loss: 0.3820 - val_categorical_crossentropy: 0.3820 - val_categorical_accuracy: 0.8188\n",
      "Epoch 7/50\n",
      "57/58 [============================>.] - ETA: 0s - loss: 0.2975 - categorical_crossentropy: 0.2975 - categorical_accuracy: 0.8895- ETA: 1s - loss: 0.3184 - categorical_crossentropy: 0.3184 -\n",
      "Epoch 00007: val_loss improved from 0.36513 to 0.21052, saving model to logs\\main\\model_checkpoints\\7\n",
      "INFO:tensorflow:Assets written to: logs\\main\\model_checkpoints\\7\\assets\n",
      "58/58 [==============================] - 15s 262ms/step - loss: 0.2985 - categorical_crossentropy: 0.2985 - categorical_accuracy: 0.8886 - val_loss: 0.2105 - val_categorical_crossentropy: 0.2105 - val_categorical_accuracy: 0.9391\n",
      "Epoch 8/50\n",
      "57/58 [============================>.] - ETA: 0s - loss: 0.2525 - categorical_crossentropy: 0.2525 - categorical_accuracy: 0.9060\n",
      "Epoch 00008: val_loss improved from 0.21052 to 0.19182, saving model to logs\\main\\model_checkpoints\\8\n",
      "INFO:tensorflow:Assets written to: logs\\main\\model_checkpoints\\8\\assets\n",
      "58/58 [==============================] - 15s 253ms/step - loss: 0.2526 - categorical_crossentropy: 0.2526 - categorical_accuracy: 0.9057 - val_loss: 0.1918 - val_categorical_crossentropy: 0.1918 - val_categorical_accuracy: 0.9328\n",
      "Epoch 9/50\n",
      "57/58 [============================>.] - ETA: 0s - loss: 0.2191 - categorical_crossentropy: 0.2191 - categorical_accuracy: 0.9230\n",
      "Epoch 00009: val_loss improved from 0.19182 to 0.16850, saving model to logs\\main\\model_checkpoints\\9\n",
      "INFO:tensorflow:Assets written to: logs\\main\\model_checkpoints\\9\\assets\n",
      "58/58 [==============================] - 14s 243ms/step - loss: 0.2193 - categorical_crossentropy: 0.2193 - categorical_accuracy: 0.9224 - val_loss: 0.1685 - val_categorical_crossentropy: 0.1685 - val_categorical_accuracy: 0.9500\n",
      "Epoch 10/50\n",
      "57/58 [============================>.] - ETA: 0s - loss: 0.1855 - categorical_crossentropy: 0.1855 - categorical_accuracy: 0.9346\n",
      "Epoch 00010: val_loss improved from 0.16850 to 0.14353, saving model to logs\\main\\model_checkpoints\\10\n",
      "INFO:tensorflow:Assets written to: logs\\main\\model_checkpoints\\10\\assets\n",
      "58/58 [==============================] - 15s 253ms/step - loss: 0.1858 - categorical_crossentropy: 0.1858 - categorical_accuracy: 0.9345 - val_loss: 0.1435 - val_categorical_crossentropy: 0.1435 - val_categorical_accuracy: 0.9547\n",
      "Epoch 11/50\n",
      "57/58 [============================>.] - ETA: 0s - loss: 0.1805 - categorical_crossentropy: 0.1805 - categorical_accuracy: 0.9342\n",
      "Epoch 00011: val_loss did not improve from 0.14353\n",
      "58/58 [==============================] - 3s 59ms/step - loss: 0.1801 - categorical_crossentropy: 0.1801 - categorical_accuracy: 0.9347 - val_loss: 0.1455 - val_categorical_crossentropy: 0.1455 - val_categorical_accuracy: 0.9578\n",
      "Epoch 12/50\n",
      "57/58 [============================>.] - ETA: 0s - loss: 0.1523 - categorical_crossentropy: 0.1523 - categorical_accuracy: 0.9474\n",
      "Epoch 00012: val_loss did not improve from 0.14353\n",
      "58/58 [==============================] - 3s 58ms/step - loss: 0.1564 - categorical_crossentropy: 0.1564 - categorical_accuracy: 0.9460 - val_loss: 0.1822 - val_categorical_crossentropy: 0.1822 - val_categorical_accuracy: 0.9328\n",
      "Epoch 13/50\n",
      "57/58 [============================>.] - ETA: 0s - loss: 0.1534 - categorical_crossentropy: 0.1534 - categorical_accuracy: 0.9483- ETA: 1s - loss: 0.1700 - categorical_crossentropy: 0.1700 - categorical_\n",
      "Epoch 00013: val_loss improved from 0.14353 to 0.14042, saving model to logs\\main\\model_checkpoints\\13\n",
      "INFO:tensorflow:Assets written to: logs\\main\\model_checkpoints\\13\\assets\n",
      "58/58 [==============================] - 15s 251ms/step - loss: 0.1528 - categorical_crossentropy: 0.1528 - categorical_accuracy: 0.9483 - val_loss: 0.1404 - val_categorical_crossentropy: 0.1404 - val_categorical_accuracy: 0.9453\n",
      "Epoch 14/50\n",
      "57/58 [============================>.] - ETA: 0s - loss: 0.1089 - categorical_crossentropy: 0.1089 - categorical_accuracy: 0.9661- ETA: 2s - loss: 0.1153 - categorical_crossentropy: 0\n",
      "Epoch 00014: val_loss improved from 0.14042 to 0.13047, saving model to logs\\main\\model_checkpoints\\14\n",
      "INFO:tensorflow:Assets written to: logs\\main\\model_checkpoints\\14\\assets\n",
      "58/58 [==============================] - 14s 242ms/step - loss: 0.1085 - categorical_crossentropy: 0.1085 - categorical_accuracy: 0.9662 - val_loss: 0.1305 - val_categorical_crossentropy: 0.1305 - val_categorical_accuracy: 0.9453\n",
      "Epoch 15/50\n",
      "57/58 [============================>.] - ETA: 0s - loss: 0.1070 - categorical_crossentropy: 0.1070 - categorical_accuracy: 0.9661\n",
      "Epoch 00015: val_loss improved from 0.13047 to 0.09883, saving model to logs\\main\\model_checkpoints\\15\n",
      "INFO:tensorflow:Assets written to: logs\\main\\model_checkpoints\\15\\assets\n"
     ]
    },
    {
     "name": "stdout",
     "output_type": "stream",
     "text": [
      "58/58 [==============================] - 15s 257ms/step - loss: 0.1063 - categorical_crossentropy: 0.1063 - categorical_accuracy: 0.9665 - val_loss: 0.0988 - val_categorical_crossentropy: 0.0988 - val_categorical_accuracy: 0.9719\n",
      "Epoch 16/50\n",
      "57/58 [============================>.] - ETA: 0s - loss: 0.0948 - categorical_crossentropy: 0.0948 - categorical_accuracy: 0.9670\n",
      "Epoch 00016: val_loss improved from 0.09883 to 0.07850, saving model to logs\\main\\model_checkpoints\\16\n",
      "INFO:tensorflow:Assets written to: logs\\main\\model_checkpoints\\16\\assets\n",
      "58/58 [==============================] - 15s 252ms/step - loss: 0.0949 - categorical_crossentropy: 0.0949 - categorical_accuracy: 0.9667 - val_loss: 0.0785 - val_categorical_crossentropy: 0.0785 - val_categorical_accuracy: 0.9750\n",
      "Epoch 17/50\n",
      "57/58 [============================>.] - ETA: 0s - loss: 0.0834 - categorical_crossentropy: 0.0834 - categorical_accuracy: 0.9720\n",
      "Epoch 00017: val_loss did not improve from 0.07850\n",
      "58/58 [==============================] - 3s 59ms/step - loss: 0.0873 - categorical_crossentropy: 0.0873 - categorical_accuracy: 0.9708 - val_loss: 0.0838 - val_categorical_crossentropy: 0.0838 - val_categorical_accuracy: 0.9781\n",
      "Epoch 18/50\n",
      "57/58 [============================>.] - ETA: 0s - loss: 0.0859 - categorical_crossentropy: 0.0859 - categorical_accuracy: 0.9740\n",
      "Epoch 00018: val_loss did not improve from 0.07850\n",
      "58/58 [==============================] - 4s 62ms/step - loss: 0.0884 - categorical_crossentropy: 0.0884 - categorical_accuracy: 0.9728 - val_loss: 0.1101 - val_categorical_crossentropy: 0.1101 - val_categorical_accuracy: 0.9656\n",
      "Epoch 19/50\n",
      "57/58 [============================>.] - ETA: 0s - loss: 0.0840 - categorical_crossentropy: 0.0840 - categorical_accuracy: 0.9738\n",
      "Epoch 00019: val_loss did not improve from 0.07850\n",
      "58/58 [==============================] - 3s 60ms/step - loss: 0.0838 - categorical_crossentropy: 0.0838 - categorical_accuracy: 0.9740 - val_loss: 0.0943 - val_categorical_crossentropy: 0.0943 - val_categorical_accuracy: 0.9625\n",
      "Epoch 20/50\n",
      "57/58 [============================>.] - ETA: 0s - loss: 0.0667 - categorical_crossentropy: 0.0667 - categorical_accuracy: 0.9778\n",
      "Epoch 00020: val_loss improved from 0.07850 to 0.06811, saving model to logs\\main\\model_checkpoints\\20\n",
      "INFO:tensorflow:Assets written to: logs\\main\\model_checkpoints\\20\\assets\n",
      "58/58 [==============================] - 14s 248ms/step - loss: 0.0688 - categorical_crossentropy: 0.0688 - categorical_accuracy: 0.9772 - val_loss: 0.0681 - val_categorical_crossentropy: 0.0681 - val_categorical_accuracy: 0.9812\n",
      "Epoch 21/50\n",
      "57/58 [============================>.] - ETA: 0s - loss: 0.0830 - categorical_crossentropy: 0.0830 - categorical_accuracy: 0.9718\n",
      "Epoch 00021: val_loss did not improve from 0.06811\n",
      "58/58 [==============================] - 3s 59ms/step - loss: 0.0823 - categorical_crossentropy: 0.0823 - categorical_accuracy: 0.9718 - val_loss: 0.0880 - val_categorical_crossentropy: 0.0880 - val_categorical_accuracy: 0.9672\n",
      "Epoch 22/50\n",
      "57/58 [============================>.] - ETA: 0s - loss: 0.0593 - categorical_crossentropy: 0.0593 - categorical_accuracy: 0.9811\n",
      "Epoch 00022: val_loss improved from 0.06811 to 0.03315, saving model to logs\\main\\model_checkpoints\\22\n",
      "INFO:tensorflow:Assets written to: logs\\main\\model_checkpoints\\22\\assets\n",
      "58/58 [==============================] - 15s 254ms/step - loss: 0.0598 - categorical_crossentropy: 0.0598 - categorical_accuracy: 0.9809 - val_loss: 0.0332 - val_categorical_crossentropy: 0.0332 - val_categorical_accuracy: 0.9937\n",
      "Epoch 23/50\n",
      "57/58 [============================>.] - ETA: 0s - loss: 0.0574 - categorical_crossentropy: 0.0574 - categorical_accuracy: 0.9820\n",
      "Epoch 00023: val_loss did not improve from 0.03315\n",
      "58/58 [==============================] - 4s 61ms/step - loss: 0.0576 - categorical_crossentropy: 0.0576 - categorical_accuracy: 0.9818 - val_loss: 0.0412 - val_categorical_crossentropy: 0.0412 - val_categorical_accuracy: 0.9875\n",
      "Epoch 24/50\n",
      "57/58 [============================>.] - ETA: 0s - loss: 0.0627 - categorical_crossentropy: 0.0627 - categorical_accuracy: 0.9774- ETA: 1s - loss: 0.0642 - categorical_crossentropy: 0.0642 - categoric\n",
      "Epoch 00024: val_loss did not improve from 0.03315\n",
      "58/58 [==============================] - 4s 61ms/step - loss: 0.0632 - categorical_crossentropy: 0.0632 - categorical_accuracy: 0.9772 - val_loss: 0.0491 - val_categorical_crossentropy: 0.0491 - val_categorical_accuracy: 0.9812\n",
      "Epoch 25/50\n",
      "57/58 [============================>.] - ETA: 0s - loss: 0.0602 - categorical_crossentropy: 0.0602 - categorical_accuracy: 0.9801- ETA: 1s - loss: 0.0460 - categorical_crossentropy: 0.0460 - categorical_accuracy - ETA: 1s - loss: 0.0501 - categorical_crossentropy: 0.0501 - categor\n",
      "Epoch 00025: val_loss did not improve from 0.03315\n",
      "58/58 [==============================] - 4s 61ms/step - loss: 0.0599 - categorical_crossentropy: 0.0599 - categorical_accuracy: 0.9802 - val_loss: 0.0907 - val_categorical_crossentropy: 0.0907 - val_categorical_accuracy: 0.9688\n",
      "Epoch 26/50\n",
      "57/58 [============================>.] - ETA: 0s - loss: 0.0453 - categorical_crossentropy: 0.0453 - categorical_accuracy: 0.9853\n",
      "Epoch 00026: val_loss did not improve from 0.03315\n",
      "58/58 [==============================] - 3s 60ms/step - loss: 0.0449 - categorical_crossentropy: 0.0449 - categorical_accuracy: 0.9855 - val_loss: 0.1062 - val_categorical_crossentropy: 0.1062 - val_categorical_accuracy: 0.9688\n",
      "Epoch 27/50\n",
      "56/58 [===========================>..] - ETA: 0s - loss: 0.0505 - categorical_crossentropy: 0.0505 - categorical_accuracy: 0.9816\n",
      "Epoch 00027: val_loss did not improve from 0.03315\n",
      "58/58 [==============================] - 3s 59ms/step - loss: 0.0499 - categorical_crossentropy: 0.0499 - categorical_accuracy: 0.9820 - val_loss: 0.0346 - val_categorical_crossentropy: 0.0346 - val_categorical_accuracy: 0.9844\n",
      "Epoch 28/50\n",
      "57/58 [============================>.] - ETA: 0s - loss: 0.0444 - categorical_crossentropy: 0.0444 - categorical_accuracy: 0.9851\n",
      "Epoch 00028: val_loss improved from 0.03315 to 0.02960, saving model to logs\\main\\model_checkpoints\\28\n",
      "INFO:tensorflow:Assets written to: logs\\main\\model_checkpoints\\28\\assets\n",
      "58/58 [==============================] - 14s 247ms/step - loss: 0.0442 - categorical_crossentropy: 0.0442 - categorical_accuracy: 0.9852 - val_loss: 0.0296 - val_categorical_crossentropy: 0.0296 - val_categorical_accuracy: 0.9891\n",
      "Epoch 29/50\n",
      "57/58 [============================>.] - ETA: 0s - loss: 0.0416 - categorical_crossentropy: 0.0416 - categorical_accuracy: 0.9857\n",
      "Epoch 00029: val_loss improved from 0.02960 to 0.02695, saving model to logs\\main\\model_checkpoints\\29\n",
      "INFO:tensorflow:Assets written to: logs\\main\\model_checkpoints\\29\\assets\n",
      "58/58 [==============================] - 14s 245ms/step - loss: 0.0412 - categorical_crossentropy: 0.0412 - categorical_accuracy: 0.9859 - val_loss: 0.0269 - val_categorical_crossentropy: 0.0269 - val_categorical_accuracy: 0.9891\n",
      "Epoch 30/50\n",
      "56/58 [===========================>..] - ETA: 0s - loss: 0.0483 - categorical_crossentropy: 0.0483 - categorical_accuracy: 0.9824\n",
      "Epoch 00030: val_loss did not improve from 0.02695\n",
      "58/58 [==============================] - 3s 60ms/step - loss: 0.0489 - categorical_crossentropy: 0.0489 - categorical_accuracy: 0.9822 - val_loss: 0.0512 - val_categorical_crossentropy: 0.0512 - val_categorical_accuracy: 0.9781\n",
      "Epoch 31/50\n",
      "56/58 [===========================>..] - ETA: 0s - loss: 0.0266 - categorical_crossentropy: 0.0266 - categorical_accuracy: 0.9918\n",
      "Epoch 00031: val_loss did not improve from 0.02695\n",
      "58/58 [==============================] - 3s 60ms/step - loss: 0.0266 - categorical_crossentropy: 0.0266 - categorical_accuracy: 0.9918 - val_loss: 0.0423 - val_categorical_crossentropy: 0.0423 - val_categorical_accuracy: 0.9891\n",
      "Epoch 32/50\n",
      "57/58 [============================>.] - ETA: 0s - loss: 0.0361 - categorical_crossentropy: 0.0361 - categorical_accuracy: 0.9883\n",
      "Epoch 00032: val_loss improved from 0.02695 to 0.01939, saving model to logs\\main\\model_checkpoints\\32\n",
      "INFO:tensorflow:Assets written to: logs\\main\\model_checkpoints\\32\\assets\n",
      "58/58 [==============================] - 14s 250ms/step - loss: 0.0366 - categorical_crossentropy: 0.0366 - categorical_accuracy: 0.9881 - val_loss: 0.0194 - val_categorical_crossentropy: 0.0194 - val_categorical_accuracy: 0.9937\n"
     ]
    },
    {
     "name": "stdout",
     "output_type": "stream",
     "text": [
      "Epoch 33/50\n",
      "57/58 [============================>.] - ETA: 0s - loss: 0.0536 - categorical_crossentropy: 0.0536 - categorical_accuracy: 0.9838\n",
      "Epoch 00033: val_loss did not improve from 0.01939\n",
      "58/58 [==============================] - 3s 59ms/step - loss: 0.0531 - categorical_crossentropy: 0.0531 - categorical_accuracy: 0.9840 - val_loss: 0.0304 - val_categorical_crossentropy: 0.0304 - val_categorical_accuracy: 0.9891\n",
      "Epoch 34/50\n",
      "57/58 [============================>.] - ETA: 0s - loss: 0.0325 - categorical_crossentropy: 0.0325 - categorical_accuracy: 0.9888\n",
      "Epoch 00034: val_loss improved from 0.01939 to 0.01569, saving model to logs\\main\\model_checkpoints\\34\n",
      "INFO:tensorflow:Assets written to: logs\\main\\model_checkpoints\\34\\assets\n",
      "58/58 [==============================] - 14s 245ms/step - loss: 0.0327 - categorical_crossentropy: 0.0327 - categorical_accuracy: 0.9886 - val_loss: 0.0157 - val_categorical_crossentropy: 0.0157 - val_categorical_accuracy: 0.9969\n",
      "Epoch 35/50\n",
      "57/58 [============================>.] - ETA: 0s - loss: 0.0425 - categorical_crossentropy: 0.0425 - categorical_accuracy: 0.9866\n",
      "Epoch 00035: val_loss improved from 0.01569 to 0.01520, saving model to logs\\main\\model_checkpoints\\35\n",
      "INFO:tensorflow:Assets written to: logs\\main\\model_checkpoints\\35\\assets\n",
      "58/58 [==============================] - 14s 246ms/step - loss: 0.0420 - categorical_crossentropy: 0.0420 - categorical_accuracy: 0.9867 - val_loss: 0.0152 - val_categorical_crossentropy: 0.0152 - val_categorical_accuracy: 0.9937\n",
      "Epoch 36/50\n",
      "57/58 [============================>.] - ETA: 0s - loss: 0.0273 - categorical_crossentropy: 0.0273 - categorical_accuracy: 0.9892\n",
      "Epoch 00036: val_loss improved from 0.01520 to 0.01205, saving model to logs\\main\\model_checkpoints\\36\n",
      "INFO:tensorflow:Assets written to: logs\\main\\model_checkpoints\\36\\assets\n",
      "58/58 [==============================] - 14s 247ms/step - loss: 0.0275 - categorical_crossentropy: 0.0275 - categorical_accuracy: 0.9891 - val_loss: 0.0120 - val_categorical_crossentropy: 0.0120 - val_categorical_accuracy: 0.9937\n",
      "Epoch 37/50\n",
      "57/58 [============================>.] - ETA: 0s - loss: 0.0252 - categorical_crossentropy: 0.0252 - categorical_accuracy: 0.9916\n",
      "Epoch 00037: val_loss did not improve from 0.01205\n",
      "58/58 [==============================] - 4s 61ms/step - loss: 0.0250 - categorical_crossentropy: 0.0250 - categorical_accuracy: 0.9916 - val_loss: 0.0121 - val_categorical_crossentropy: 0.0121 - val_categorical_accuracy: 0.9969\n",
      "Epoch 38/50\n",
      "57/58 [============================>.] - ETA: 0s - loss: 0.0249 - categorical_crossentropy: 0.0249 - categorical_accuracy: 0.9914\n",
      "Epoch 00038: val_loss did not improve from 0.01205\n",
      "58/58 [==============================] - 4s 61ms/step - loss: 0.0245 - categorical_crossentropy: 0.0245 - categorical_accuracy: 0.9915 - val_loss: 0.0150 - val_categorical_crossentropy: 0.0150 - val_categorical_accuracy: 0.9922\n",
      "Epoch 39/50\n",
      "57/58 [============================>.] - ETA: 0s - loss: 0.0315 - categorical_crossentropy: 0.0315 - categorical_accuracy: 0.9894\n",
      "Epoch 00039: val_loss did not improve from 0.01205\n",
      "58/58 [==============================] - 3s 57ms/step - loss: 0.0314 - categorical_crossentropy: 0.0314 - categorical_accuracy: 0.9895 - val_loss: 0.0141 - val_categorical_crossentropy: 0.0141 - val_categorical_accuracy: 0.9969\n",
      "Epoch 40/50\n",
      "56/58 [===========================>..] - ETA: 0s - loss: 0.0254 - categorical_crossentropy: 0.0254 - categorical_accuracy: 0.9911\n",
      "Epoch 00040: val_loss improved from 0.01205 to 0.01065, saving model to logs\\main\\model_checkpoints\\40\n",
      "INFO:tensorflow:Assets written to: logs\\main\\model_checkpoints\\40\\assets\n",
      "58/58 [==============================] - 15s 253ms/step - loss: 0.0262 - categorical_crossentropy: 0.0262 - categorical_accuracy: 0.9908 - val_loss: 0.0106 - val_categorical_crossentropy: 0.0106 - val_categorical_accuracy: 0.9969\n",
      "Epoch 41/50\n",
      "57/58 [============================>.] - ETA: 0s - loss: 0.0280 - categorical_crossentropy: 0.0280 - categorical_accuracy: 0.9901- ETA: 0s - loss: 0.0283 - categorical_crossentropy: 0.0283 - categorical_accuracy: 0.\n",
      "Epoch 00041: val_loss did not improve from 0.01065\n",
      "58/58 [==============================] - 4s 62ms/step - loss: 0.0281 - categorical_crossentropy: 0.0281 - categorical_accuracy: 0.9900 - val_loss: 0.0347 - val_categorical_crossentropy: 0.0347 - val_categorical_accuracy: 0.9906\n",
      "Epoch 42/50\n",
      "57/58 [============================>.] - ETA: 0s - loss: 0.0221 - categorical_crossentropy: 0.0221 - categorical_accuracy: 0.9927\n",
      "Epoch 00042: val_loss did not improve from 0.01065\n",
      "58/58 [==============================] - 4s 61ms/step - loss: 0.0224 - categorical_crossentropy: 0.0224 - categorical_accuracy: 0.9927 - val_loss: 0.0197 - val_categorical_crossentropy: 0.0197 - val_categorical_accuracy: 0.9922\n",
      "Epoch 43/50\n",
      "57/58 [============================>.] - ETA: 0s - loss: 0.0182 - categorical_crossentropy: 0.0182 - categorical_accuracy: 0.9941\n",
      "Epoch 00043: val_loss did not improve from 0.01065\n",
      "58/58 [==============================] - 3s 60ms/step - loss: 0.0181 - categorical_crossentropy: 0.0181 - categorical_accuracy: 0.9941 - val_loss: 0.0133 - val_categorical_crossentropy: 0.0133 - val_categorical_accuracy: 0.9937\n",
      "Epoch 44/50\n",
      "57/58 [============================>.] - ETA: 0s - loss: 0.0268 - categorical_crossentropy: 0.0268 - categorical_accuracy: 0.9903\n",
      "Epoch 00044: val_loss improved from 0.01065 to 0.00576, saving model to logs\\main\\model_checkpoints\\44\n",
      "INFO:tensorflow:Assets written to: logs\\main\\model_checkpoints\\44\\assets\n",
      "58/58 [==============================] - 15s 258ms/step - loss: 0.0269 - categorical_crossentropy: 0.0269 - categorical_accuracy: 0.9903 - val_loss: 0.0058 - val_categorical_crossentropy: 0.0058 - val_categorical_accuracy: 1.0000\n",
      "Epoch 45/50\n",
      "57/58 [============================>.] - ETA: 0s - loss: 0.0175 - categorical_crossentropy: 0.0175 - categorical_accuracy: 0.9938\n",
      "Epoch 00045: val_loss did not improve from 0.00576\n",
      "58/58 [==============================] - 3s 59ms/step - loss: 0.0174 - categorical_crossentropy: 0.0174 - categorical_accuracy: 0.9939 - val_loss: 0.0084 - val_categorical_crossentropy: 0.0084 - val_categorical_accuracy: 0.9984\n",
      "Epoch 46/50\n",
      "57/58 [============================>.] - ETA: 0s - loss: 0.0188 - categorical_crossentropy: 0.0188 - categorical_accuracy: 0.9934\n",
      "Epoch 00046: val_loss did not improve from 0.00576\n",
      "58/58 [==============================] - 3s 59ms/step - loss: 0.0191 - categorical_crossentropy: 0.0191 - categorical_accuracy: 0.9934 - val_loss: 0.0112 - val_categorical_crossentropy: 0.0112 - val_categorical_accuracy: 0.9969\n",
      "Epoch 47/50\n",
      "57/58 [============================>.] - ETA: 0s - loss: 0.0194 - categorical_crossentropy: 0.0194 - categorical_accuracy: 0.9931\n",
      "Epoch 00047: val_loss did not improve from 0.00576\n",
      "58/58 [==============================] - 3s 59ms/step - loss: 0.0192 - categorical_crossentropy: 0.0192 - categorical_accuracy: 0.9933 - val_loss: 0.0139 - val_categorical_crossentropy: 0.0139 - val_categorical_accuracy: 0.9969\n",
      "Epoch 48/50\n",
      "57/58 [============================>.] - ETA: 0s - loss: 0.0211 - categorical_crossentropy: 0.0211 - categorical_accuracy: 0.9938\n",
      "Epoch 00048: val_loss did not improve from 0.00576\n",
      "58/58 [==============================] - 3s 59ms/step - loss: 0.0212 - categorical_crossentropy: 0.0212 - categorical_accuracy: 0.9938 - val_loss: 0.0856 - val_categorical_crossentropy: 0.0856 - val_categorical_accuracy: 0.9688\n",
      "Epoch 49/50\n",
      "57/58 [============================>.] - ETA: 0s - loss: 0.0228 - categorical_crossentropy: 0.0228 - categorical_accuracy: 0.9927\n",
      "Epoch 00049: val_loss improved from 0.00576 to 0.00544, saving model to logs\\main\\model_checkpoints\\49\n",
      "INFO:tensorflow:Assets written to: logs\\main\\model_checkpoints\\49\\assets\n",
      "58/58 [==============================] - 14s 244ms/step - loss: 0.0225 - categorical_crossentropy: 0.0225 - categorical_accuracy: 0.9927 - val_loss: 0.0054 - val_categorical_crossentropy: 0.0054 - val_categorical_accuracy: 0.9984\n",
      "Epoch 50/50\n"
     ]
    },
    {
     "name": "stdout",
     "output_type": "stream",
     "text": [
      "57/58 [============================>.] - ETA: 0s - loss: 0.0181 - categorical_crossentropy: 0.0181 - categorical_accuracy: 0.9944- ETA: 0s - loss: 0.0165 - categorical_crossentropy: 0.0165 - categorical_accuracy: \n",
      "Epoch 00050: val_loss did not improve from 0.00544\n",
      "58/58 [==============================] - 3s 60ms/step - loss: 0.0208 - categorical_crossentropy: 0.0208 - categorical_accuracy: 0.9938 - val_loss: 0.0370 - val_categorical_crossentropy: 0.0370 - val_categorical_accuracy: 0.9875\n"
     ]
    }
   ],
   "source": [
    "epochs=50\n",
    "steps_per_epoch = x_train.shape[0]//batch_size # batches per epoch.\n",
    "validation_steps = 5\n",
    "\n",
    "history = model.fit(train_data, validation_data=test_data, epochs=epochs, callbacks=all_callbacks,\n",
    "                    steps_per_epoch=steps_per_epoch, validation_steps=validation_steps)\n"
   ]
  },
  {
   "cell_type": "markdown",
   "metadata": {},
   "source": [
    "# Further experiments"
   ]
  },
  {
   "cell_type": "markdown",
   "metadata": {},
   "source": [
    "## Only sensor signals (no temperature or humidity)\n",
    "\n",
    "Let's train without temperature or humidity as a feature. So, we drop the last two features.\n",
    "\n",
    "We should expect this to produce perfomance that is comparable to the earlier model we trained above, but a little weaker if at all."
   ]
  },
  {
   "cell_type": "code",
   "execution_count": 34,
   "metadata": {},
   "outputs": [
    {
     "name": "stdout",
     "output_type": "stream",
     "text": [
      "Train for 58 steps, validate for 5 steps\n",
      "Epoch 1/50\n",
      "58/58 [==============================] - 12s 200ms/step - loss: 0.8307 - categorical_crossentropy: 0.8307 - categorical_accuracy: 0.5870 - val_loss: 0.6483 - val_categorical_crossentropy: 0.6483 - val_categorical_accuracy: 0.6953\n",
      "Epoch 2/50\n",
      "58/58 [==============================] - 4s 76ms/step - loss: 0.6210 - categorical_crossentropy: 0.6210 - categorical_accuracy: 0.7244 - val_loss: 0.5729 - val_categorical_crossentropy: 0.5729 - val_categorical_accuracy: 0.7609\n",
      "Epoch 3/50\n",
      "58/58 [==============================] - 4s 62ms/step - loss: 0.5193 - categorical_crossentropy: 0.5193 - categorical_accuracy: 0.7955 - val_loss: 0.5196 - val_categorical_crossentropy: 0.5196 - val_categorical_accuracy: 0.8078\n",
      "Epoch 4/50\n",
      "58/58 [==============================] - 4s 63ms/step - loss: 0.4435 - categorical_crossentropy: 0.4435 - categorical_accuracy: 0.8287 - val_loss: 0.3723 - val_categorical_crossentropy: 0.3723 - val_categorical_accuracy: 0.8562\n",
      "Epoch 5/50\n",
      "58/58 [==============================] - 4s 63ms/step - loss: 0.4076 - categorical_crossentropy: 0.4076 - categorical_accuracy: 0.8388 - val_loss: 0.3954 - val_categorical_crossentropy: 0.3954 - val_categorical_accuracy: 0.8344\n",
      "Epoch 6/50\n",
      "58/58 [==============================] - 4s 63ms/step - loss: 0.3666 - categorical_crossentropy: 0.3666 - categorical_accuracy: 0.8555 - val_loss: 0.3211 - val_categorical_crossentropy: 0.3211 - val_categorical_accuracy: 0.8656\n",
      "Epoch 7/50\n",
      "58/58 [==============================] - 4s 65ms/step - loss: 0.3443 - categorical_crossentropy: 0.3443 - categorical_accuracy: 0.8727 - val_loss: 0.3586 - val_categorical_crossentropy: 0.3586 - val_categorical_accuracy: 0.8266\n",
      "Epoch 8/50\n",
      "58/58 [==============================] - 4s 64ms/step - loss: 0.3186 - categorical_crossentropy: 0.3186 - categorical_accuracy: 0.8777 - val_loss: 0.2668 - val_categorical_crossentropy: 0.2668 - val_categorical_accuracy: 0.8875\n",
      "Epoch 9/50\n",
      "58/58 [==============================] - 4s 64ms/step - loss: 0.2748 - categorical_crossentropy: 0.2748 - categorical_accuracy: 0.8957 - val_loss: 0.2605 - val_categorical_crossentropy: 0.2605 - val_categorical_accuracy: 0.8953s - loss: 0.2769 - categorical_crossentropy: 0.2769 - categori\n",
      "Epoch 10/50\n",
      "58/58 [==============================] - 4s 64ms/step - loss: 0.2573 - categorical_crossentropy: 0.2573 - categorical_accuracy: 0.9019 - val_loss: 0.2776 - val_categorical_crossentropy: 0.2776 - val_categorical_accuracy: 0.8813\n",
      "Epoch 11/50\n",
      "58/58 [==============================] - 4s 63ms/step - loss: 0.2582 - categorical_crossentropy: 0.2582 - categorical_accuracy: 0.9026 - val_loss: 0.2231 - val_categorical_crossentropy: 0.2231 - val_categorical_accuracy: 0.9047\n",
      "Epoch 12/50\n",
      "58/58 [==============================] - 4s 64ms/step - loss: 0.2302 - categorical_crossentropy: 0.2302 - categorical_accuracy: 0.9116 - val_loss: 0.1871 - val_categorical_crossentropy: 0.1871 - val_categorical_accuracy: 0.9203\n",
      "Epoch 13/50\n",
      "58/58 [==============================] - 4s 65ms/step - loss: 0.2137 - categorical_crossentropy: 0.2137 - categorical_accuracy: 0.9190 - val_loss: 0.1812 - val_categorical_crossentropy: 0.1812 - val_categorical_accuracy: 0.9266\n",
      "Epoch 14/50\n",
      "58/58 [==============================] - ETA: 0s - loss: 0.2070 - categorical_crossentropy: 0.2070 - categorical_accuracy: 0.920 - 4s 64ms/step - loss: 0.2056 - categorical_crossentropy: 0.2056 - categorical_accuracy: 0.9209 - val_loss: 0.2130 - val_categorical_crossentropy: 0.2130 - val_categorical_accuracy: 0.9141\n",
      "Epoch 15/50\n",
      "58/58 [==============================] - 4s 65ms/step - loss: 0.1802 - categorical_crossentropy: 0.1802 - categorical_accuracy: 0.9374 - val_loss: 0.1413 - val_categorical_crossentropy: 0.1413 - val_categorical_accuracy: 0.9500\n",
      "Epoch 16/50\n",
      "58/58 [==============================] - 4s 65ms/step - loss: 0.1869 - categorical_crossentropy: 0.1869 - categorical_accuracy: 0.9360 - val_loss: 0.1553 - val_categorical_crossentropy: 0.1553 - val_categorical_accuracy: 0.9391\n",
      "Epoch 17/50\n",
      "58/58 [==============================] - 4s 62ms/step - loss: 0.1601 - categorical_crossentropy: 0.1601 - categorical_accuracy: 0.9467 - val_loss: 0.1264 - val_categorical_crossentropy: 0.1264 - val_categorical_accuracy: 0.9547\n",
      "Epoch 18/50\n",
      "58/58 [==============================] - 4s 61ms/step - loss: 0.1646 - categorical_crossentropy: 0.1646 - categorical_accuracy: 0.9422 - val_loss: 0.1065 - val_categorical_crossentropy: 0.1065 - val_categorical_accuracy: 0.9672\n",
      "Epoch 19/50\n",
      "58/58 [==============================] - 4s 61ms/step - loss: 0.1498 - categorical_crossentropy: 0.1498 - categorical_accuracy: 0.9464 - val_loss: 0.1312 - val_categorical_crossentropy: 0.1312 - val_categorical_accuracy: 0.9484 - loss: 0.1374 - categorical_crossentropy: 0.1374 - ca\n",
      "Epoch 20/50\n",
      "58/58 [==============================] - 4s 62ms/step - loss: 0.1541 - categorical_crossentropy: 0.1541 - categorical_accuracy: 0.9468 - val_loss: 0.1376 - val_categorical_crossentropy: 0.1376 - val_categorical_accuracy: 0.9391\n",
      "Epoch 21/50\n",
      "58/58 [==============================] - 4s 61ms/step - loss: 0.1387 - categorical_crossentropy: 0.1387 - categorical_accuracy: 0.9523 - val_loss: 0.1016 - val_categorical_crossentropy: 0.1016 - val_categorical_accuracy: 0.9656\n",
      "Epoch 22/50\n",
      "58/58 [==============================] - 4s 64ms/step - loss: 0.1336 - categorical_crossentropy: 0.1336 - categorical_accuracy: 0.9534 - val_loss: 0.1144 - val_categorical_crossentropy: 0.1144 - val_categorical_accuracy: 0.9672\n",
      "Epoch 23/50\n",
      "58/58 [==============================] - 4s 63ms/step - loss: 0.1288 - categorical_crossentropy: 0.1288 - categorical_accuracy: 0.9564 - val_loss: 0.0856 - val_categorical_crossentropy: 0.0856 - val_categorical_accuracy: 0.9734\n",
      "Epoch 24/50\n",
      "58/58 [==============================] - 4s 64ms/step - loss: 0.1358 - categorical_crossentropy: 0.1358 - categorical_accuracy: 0.9526 - val_loss: 0.0905 - val_categorical_crossentropy: 0.0905 - val_categorical_accuracy: 0.9656\n",
      "Epoch 25/50\n",
      "58/58 [==============================] - 4s 66ms/step - loss: 0.1241 - categorical_crossentropy: 0.1241 - categorical_accuracy: 0.9565 - val_loss: 0.1447 - val_categorical_crossentropy: 0.1447 - val_categorical_accuracy: 0.9500\n",
      "Epoch 26/50\n",
      "58/58 [==============================] - 4s 65ms/step - loss: 0.1077 - categorical_crossentropy: 0.1077 - categorical_accuracy: 0.9635 - val_loss: 0.0854 - val_categorical_crossentropy: 0.0854 - val_categorical_accuracy: 0.9656\n",
      "Epoch 27/50\n",
      "58/58 [==============================] - 4s 65ms/step - loss: 0.1139 - categorical_crossentropy: 0.1139 - categorical_accuracy: 0.9609 - val_loss: 0.0599 - val_categorical_crossentropy: 0.0599 - val_categorical_accuracy: 0.9812\n",
      "Epoch 28/50\n",
      "58/58 [==============================] - 4s 64ms/step - loss: 0.1022 - categorical_crossentropy: 0.1022 - categorical_accuracy: 0.9681 - val_loss: 0.0926 - val_categorical_crossentropy: 0.0926 - val_categorical_accuracy: 0.9625\n",
      "Epoch 29/50\n",
      "58/58 [==============================] - 4s 66ms/step - loss: 0.1153 - categorical_crossentropy: 0.1153 - categorical_accuracy: 0.9611 - val_loss: 0.0906 - val_categorical_crossentropy: 0.0906 - val_categorical_accuracy: 0.9750\n",
      "Epoch 30/50\n",
      "58/58 [==============================] - 4s 64ms/step - loss: 0.0942 - categorical_crossentropy: 0.0942 - categorical_accuracy: 0.9693 - val_loss: 0.1015 - val_categorical_crossentropy: 0.1015 - val_categorical_accuracy: 0.9719\n",
      "Epoch 31/50\n",
      "58/58 [==============================] - 4s 64ms/step - loss: 0.0884 - categorical_crossentropy: 0.0884 - categorical_accuracy: 0.9706 - val_loss: 0.0474 - val_categorical_crossentropy: 0.0474 - val_categorical_accuracy: 0.9937\n",
      "Epoch 32/50\n",
      "58/58 [==============================] - 4s 62ms/step - loss: 0.1021 - categorical_crossentropy: 0.1021 - categorical_accuracy: 0.9663 - val_loss: 0.0724 - val_categorical_crossentropy: 0.0724 - val_categorical_accuracy: 0.9781\n",
      "Epoch 33/50\n",
      "58/58 [==============================] - 4s 62ms/step - loss: 0.0795 - categorical_crossentropy: 0.0795 - categorical_accuracy: 0.9741 - val_loss: 0.0497 - val_categorical_crossentropy: 0.0497 - val_categorical_accuracy: 0.9844\n",
      "Epoch 34/50\n"
     ]
    },
    {
     "name": "stdout",
     "output_type": "stream",
     "text": [
      "58/58 [==============================] - 4s 62ms/step - loss: 0.0823 - categorical_crossentropy: 0.0823 - categorical_accuracy: 0.9731 - val_loss: 0.0856 - val_categorical_crossentropy: 0.0856 - val_categorical_accuracy: 0.9672\n",
      "Epoch 35/50\n",
      "58/58 [==============================] - 4s 62ms/step - loss: 0.0673 - categorical_crossentropy: 0.0673 - categorical_accuracy: 0.9774 - val_loss: 0.0405 - val_categorical_crossentropy: 0.0405 - val_categorical_accuracy: 0.9891\n",
      "Epoch 36/50\n",
      "58/58 [==============================] - 4s 62ms/step - loss: 0.0671 - categorical_crossentropy: 0.0671 - categorical_accuracy: 0.9780 - val_loss: 0.0621 - val_categorical_crossentropy: 0.0621 - val_categorical_accuracy: 0.9750\n",
      "Epoch 37/50\n",
      "58/58 [==============================] - 4s 66ms/step - loss: 0.0667 - categorical_crossentropy: 0.0667 - categorical_accuracy: 0.9780 - val_loss: 0.0355 - val_categorical_crossentropy: 0.0355 - val_categorical_accuracy: 0.9937\n",
      "Epoch 38/50\n",
      "58/58 [==============================] - 4s 65ms/step - loss: 0.0670 - categorical_crossentropy: 0.0670 - categorical_accuracy: 0.9764 - val_loss: 0.0401 - val_categorical_crossentropy: 0.0401 - val_categorical_accuracy: 0.9906\n",
      "Epoch 39/50\n",
      "58/58 [==============================] - 4s 63ms/step - loss: 0.0576 - categorical_crossentropy: 0.0576 - categorical_accuracy: 0.9820 - val_loss: 0.0410 - val_categorical_crossentropy: 0.0410 - val_categorical_accuracy: 0.9937\n",
      "Epoch 40/50\n",
      "58/58 [==============================] - 4s 65ms/step - loss: 0.0657 - categorical_crossentropy: 0.0657 - categorical_accuracy: 0.9799 - val_loss: 0.0294 - val_categorical_crossentropy: 0.0294 - val_categorical_accuracy: 0.9891\n",
      "Epoch 41/50\n",
      "58/58 [==============================] - 4s 64ms/step - loss: 0.0564 - categorical_crossentropy: 0.0564 - categorical_accuracy: 0.9828 - val_loss: 0.0256 - val_categorical_crossentropy: 0.0256 - val_categorical_accuracy: 0.9937\n",
      "Epoch 42/50\n",
      "58/58 [==============================] - 4s 62ms/step - loss: 0.0679 - categorical_crossentropy: 0.0679 - categorical_accuracy: 0.9798 - val_loss: 0.0237 - val_categorical_crossentropy: 0.0237 - val_categorical_accuracy: 0.9937\n",
      "Epoch 43/50\n",
      "58/58 [==============================] - 4s 62ms/step - loss: 0.0510 - categorical_crossentropy: 0.0510 - categorical_accuracy: 0.9838 - val_loss: 0.0274 - val_categorical_crossentropy: 0.0274 - val_categorical_accuracy: 0.9937\n",
      "Epoch 44/50\n",
      "58/58 [==============================] - 4s 61ms/step - loss: 0.0558 - categorical_crossentropy: 0.0558 - categorical_accuracy: 0.9802 - val_loss: 0.0216 - val_categorical_crossentropy: 0.0216 - val_categorical_accuracy: 0.9953\n",
      "Epoch 45/50\n",
      "58/58 [==============================] - 4s 61ms/step - loss: 0.0440 - categorical_crossentropy: 0.0440 - categorical_accuracy: 0.9857 - val_loss: 0.0175 - val_categorical_crossentropy: 0.0175 - val_categorical_accuracy: 0.9969\n",
      "Epoch 46/50\n",
      "58/58 [==============================] - 4s 62ms/step - loss: 0.0479 - categorical_crossentropy: 0.0479 - categorical_accuracy: 0.9865 - val_loss: 0.0160 - val_categorical_crossentropy: 0.0160 - val_categorical_accuracy: 0.9969\n",
      "Epoch 47/50\n",
      "58/58 [==============================] - 4s 63ms/step - loss: 0.0520 - categorical_crossentropy: 0.0520 - categorical_accuracy: 0.9844 - val_loss: 0.0531 - val_categorical_crossentropy: 0.0531 - val_categorical_accuracy: 0.9844\n",
      "Epoch 48/50\n",
      "58/58 [==============================] - 4s 63ms/step - loss: 0.0554 - categorical_crossentropy: 0.0554 - categorical_accuracy: 0.9838 - val_loss: 0.0307 - val_categorical_crossentropy: 0.0307 - val_categorical_accuracy: 0.9953\n",
      "Epoch 49/50\n",
      "58/58 [==============================] - 4s 62ms/step - loss: 0.0364 - categorical_crossentropy: 0.0364 - categorical_accuracy: 0.9895 - val_loss: 0.0261 - val_categorical_crossentropy: 0.0261 - val_categorical_accuracy: 0.9953\n",
      "Epoch 50/50\n",
      "58/58 [==============================] - 4s 61ms/step - loss: 0.0427 - categorical_crossentropy: 0.0427 - categorical_accuracy: 0.9876 - val_loss: 0.0265 - val_categorical_crossentropy: 0.0265 - val_categorical_accuracy: 0.9953\n"
     ]
    }
   ],
   "source": [
    "\n",
    "input_layer_tensor = tf.keras.Input(shape=x[:,:,:-2].shape[1:])\n",
    "output = tf.keras.layers.LSTM(32, return_sequences=True)(input_layer_tensor)\n",
    "output = tf.keras.layers.Dropout(0.3)(output)\n",
    "output = tf.keras.layers.LSTM(64, return_sequences=False)(output)\n",
    "output = tf.keras.layers.Dense(3)(output)\n",
    "output_layer_tensor = tf.keras.layers.Softmax()(output)\n",
    "\n",
    "model = tf.keras.Model(input_layer_tensor, output_layer_tensor)\n",
    "\n",
    "#callback for TensorBoard.\n",
    "\n",
    "tensorboard_logdir=os.path.join(\"logs\",\"sensor_only\",\"tensorboard_events\")\n",
    "\n",
    "all_callbacks.append(\n",
    "    tf.keras.callbacks.TensorBoard(log_dir=tensorboard_logdir,\n",
    "                                   histogram_freq=1,\n",
    "                                   write_graph=False, profile_batch = 0))\n",
    "\n",
    "optimizer=tf.keras.optimizers.Adam(learning_rate=0.001, beta_1=0.85, \n",
    "                                   beta_2=0.95, epsilon=1e-07, amsgrad=False)\n",
    "loss= tf.keras.losses.CategoricalCrossentropy()\n",
    "metrics=[tf.keras.metrics.CategoricalCrossentropy(), tf.keras.metrics.CategoricalAccuracy()]\n",
    "\n",
    "model.compile(optimizer=optimizer, loss=loss, metrics=metrics)\n",
    "\n",
    "batch_size=128\n",
    "\n",
    "train_data = tf.data.Dataset.from_tensor_slices((x_train[:,:,:-2], y_train))\n",
    "train_data = train_data.cache().repeat().batch(batch_size)\n",
    "\n",
    "test_data = tf.data.Dataset.from_tensor_slices((x_test[:,:,:-2], y_test))\n",
    "test_data = test_data.batch(batch_size).repeat()\n",
    "\n",
    "epochs=50\n",
    "steps_per_epoch = x_train.shape[0]//batch_size # batches per epoch.\n",
    "validation_steps = 5\n",
    "\n",
    "history = model.fit(train_data, validation_data=test_data, epochs=epochs,\n",
    "                    steps_per_epoch=steps_per_epoch, validation_steps=validation_steps)"
   ]
  },
  {
   "cell_type": "markdown",
   "metadata": {},
   "source": [
    "## Only temperature and humidity\n",
    "\n",
    "Let's use only temperature and humidity as input features. This is expected to significantly underperform."
   ]
  },
  {
   "cell_type": "code",
   "execution_count": 35,
   "metadata": {},
   "outputs": [
    {
     "name": "stdout",
     "output_type": "stream",
     "text": [
      "Train for 58 steps, validate for 5 steps\n",
      "Epoch 1/50\n",
      "58/58 [==============================] - 8s 136ms/step - loss: 1.0439 - categorical_crossentropy: 1.0439 - categorical_accuracy: 0.4683 - val_loss: 1.0362 - val_categorical_crossentropy: 1.0362 - val_categorical_accuracy: 0.4859\n",
      "Epoch 2/50\n",
      "58/58 [==============================] - 4s 63ms/step - loss: 1.0055 - categorical_crossentropy: 1.0055 - categorical_accuracy: 0.5081 - val_loss: 1.0299 - val_categorical_crossentropy: 1.0299 - val_categorical_accuracy: 0.5063\n",
      "Epoch 3/50\n",
      "58/58 [==============================] - 4s 62ms/step - loss: 0.9838 - categorical_crossentropy: 0.9838 - categorical_accuracy: 0.5065 - val_loss: 1.0234 - val_categorical_crossentropy: 1.0234 - val_categorical_accuracy: 0.5063\n",
      "Epoch 4/50\n",
      "58/58 [==============================] - 4s 63ms/step - loss: 0.9509 - categorical_crossentropy: 0.9509 - categorical_accuracy: 0.5120 - val_loss: 0.9787 - val_categorical_crossentropy: 0.9787 - val_categorical_accuracy: 0.4531\n",
      "Epoch 5/50\n",
      "58/58 [==============================] - 4s 64ms/step - loss: 0.9347 - categorical_crossentropy: 0.9347 - categorical_accuracy: 0.5096 - val_loss: 0.9490 - val_categorical_crossentropy: 0.9490 - val_categorical_accuracy: 0.4844\n",
      "Epoch 6/50\n",
      "58/58 [==============================] - 4s 63ms/step - loss: 0.9074 - categorical_crossentropy: 0.9074 - categorical_accuracy: 0.5323 - val_loss: 0.8872 - val_categorical_crossentropy: 0.8872 - val_categorical_accuracy: 0.5578\n",
      "Epoch 7/50\n",
      "58/58 [==============================] - 4s 62ms/step - loss: 0.8695 - categorical_crossentropy: 0.8695 - categorical_accuracy: 0.5752 - val_loss: 0.8551 - val_categorical_crossentropy: 0.8551 - val_categorical_accuracy: 0.5875\n",
      "Epoch 8/50\n",
      "58/58 [==============================] - 4s 62ms/step - loss: 0.8526 - categorical_crossentropy: 0.8526 - categorical_accuracy: 0.5846 - val_loss: 0.8516 - val_categorical_crossentropy: 0.8516 - val_categorical_accuracy: 0.5938\n",
      "Epoch 9/50\n",
      "58/58 [==============================] - 3s 60ms/step - loss: 0.8467 - categorical_crossentropy: 0.8467 - categorical_accuracy: 0.5830 - val_loss: 0.8280 - val_categorical_crossentropy: 0.8280 - val_categorical_accuracy: 0.6094\n",
      "Epoch 10/50\n",
      "58/58 [==============================] - 3s 60ms/step - loss: 0.8285 - categorical_crossentropy: 0.8285 - categorical_accuracy: 0.5943 - val_loss: 0.8091 - val_categorical_crossentropy: 0.8091 - val_categorical_accuracy: 0.6203\n",
      "Epoch 11/50\n",
      "58/58 [==============================] - 4s 62ms/step - loss: 0.8177 - categorical_crossentropy: 0.8177 - categorical_accuracy: 0.5995 - val_loss: 0.8305 - val_categorical_crossentropy: 0.8305 - val_categorical_accuracy: 0.6313\n",
      "Epoch 12/50\n",
      "58/58 [==============================] - 4s 64ms/step - loss: 0.8070 - categorical_crossentropy: 0.8070 - categorical_accuracy: 0.6119 - val_loss: 0.8120 - val_categorical_crossentropy: 0.8120 - val_categorical_accuracy: 0.6391\n",
      "Epoch 13/50\n",
      "58/58 [==============================] - 4s 65ms/step - loss: 0.7954 - categorical_crossentropy: 0.7954 - categorical_accuracy: 0.6173 - val_loss: 0.8082 - val_categorical_crossentropy: 0.8082 - val_categorical_accuracy: 0.6344\n",
      "Epoch 14/50\n",
      "58/58 [==============================] - 4s 65ms/step - loss: 0.7906 - categorical_crossentropy: 0.7906 - categorical_accuracy: 0.6207 - val_loss: 0.7719 - val_categorical_crossentropy: 0.7719 - val_categorical_accuracy: 0.646998 - categorical_crossentropy: 0.7898 - categorical_accu\n",
      "Epoch 15/50\n",
      "58/58 [==============================] - 4s 65ms/step - loss: 0.7766 - categorical_crossentropy: 0.7766 - categorical_accuracy: 0.6259 - val_loss: 0.7669 - val_categorical_crossentropy: 0.7669 - val_categorical_accuracy: 0.6359\n",
      "Epoch 16/50\n",
      "58/58 [==============================] - 4s 65ms/step - loss: 0.7638 - categorical_crossentropy: 0.7638 - categorical_accuracy: 0.6355 - val_loss: 0.7480 - val_categorical_crossentropy: 0.7480 - val_categorical_accuracy: 0.6641\n",
      "Epoch 17/50\n",
      "58/58 [==============================] - 4s 65ms/step - loss: 0.7502 - categorical_crossentropy: 0.7502 - categorical_accuracy: 0.6432 - val_loss: 0.7551 - val_categorical_crossentropy: 0.7551 - val_categorical_accuracy: 0.6531\n",
      "Epoch 18/50\n",
      "58/58 [==============================] - 4s 65ms/step - loss: 0.7442 - categorical_crossentropy: 0.7442 - categorical_accuracy: 0.6480 - val_loss: 0.7873 - val_categorical_crossentropy: 0.7873 - val_categorical_accuracy: 0.6297\n",
      "Epoch 19/50\n",
      "58/58 [==============================] - 4s 66ms/step - loss: 0.7441 - categorical_crossentropy: 0.7441 - categorical_accuracy: 0.6448 - val_loss: 0.7911 - val_categorical_crossentropy: 0.7911 - val_categorical_accuracy: 0.6625\n",
      "Epoch 20/50\n",
      "58/58 [==============================] - 4s 66ms/step - loss: 0.7397 - categorical_crossentropy: 0.7397 - categorical_accuracy: 0.6488 - val_loss: 0.7512 - val_categorical_crossentropy: 0.7512 - val_categorical_accuracy: 0.6547\n",
      "Epoch 21/50\n",
      "58/58 [==============================] - 4s 66ms/step - loss: 0.7352 - categorical_crossentropy: 0.7352 - categorical_accuracy: 0.6509 - val_loss: 0.7371 - val_categorical_crossentropy: 0.7371 - val_categorical_accuracy: 0.6641\n",
      "Epoch 22/50\n",
      "58/58 [==============================] - 4s 67ms/step - loss: 0.7195 - categorical_crossentropy: 0.7195 - categorical_accuracy: 0.6602 - val_loss: 0.7240 - val_categorical_crossentropy: 0.7240 - val_categorical_accuracy: 0.6969\n",
      "Epoch 23/50\n",
      "58/58 [==============================] - 4s 67ms/step - loss: 0.7179 - categorical_crossentropy: 0.7179 - categorical_accuracy: 0.6573 - val_loss: 0.7224 - val_categorical_crossentropy: 0.7224 - val_categorical_accuracy: 0.6781\n",
      "Epoch 24/50\n",
      "58/58 [==============================] - 4s 67ms/step - loss: 0.7024 - categorical_crossentropy: 0.7024 - categorical_accuracy: 0.6685 - val_loss: 0.6933 - val_categorical_crossentropy: 0.6933 - val_categorical_accuracy: 0.7031\n",
      "Epoch 25/50\n",
      "58/58 [==============================] - 4s 67ms/step - loss: 0.6981 - categorical_crossentropy: 0.6981 - categorical_accuracy: 0.6713 - val_loss: 0.6679 - val_categorical_crossentropy: 0.6679 - val_categorical_accuracy: 0.7078\n",
      "Epoch 26/50\n",
      "58/58 [==============================] - 4s 66ms/step - loss: 0.6806 - categorical_crossentropy: 0.6806 - categorical_accuracy: 0.6781 - val_loss: 0.6813 - val_categorical_crossentropy: 0.6813 - val_categorical_accuracy: 0.6969\n",
      "Epoch 27/50\n",
      "58/58 [==============================] - 4s 64ms/step - loss: 0.6842 - categorical_crossentropy: 0.6842 - categorical_accuracy: 0.6781 - val_loss: 0.6780 - val_categorical_crossentropy: 0.6780 - val_categorical_accuracy: 0.7219\n",
      "Epoch 28/50\n",
      "58/58 [==============================] - 4s 65ms/step - loss: 0.6797 - categorical_crossentropy: 0.6797 - categorical_accuracy: 0.6767 - val_loss: 0.6955 - val_categorical_crossentropy: 0.6955 - val_categorical_accuracy: 0.7094\n",
      "Epoch 29/50\n",
      "58/58 [==============================] - 4s 65ms/step - loss: 0.6844 - categorical_crossentropy: 0.6844 - categorical_accuracy: 0.6773 - val_loss: 0.6947 - val_categorical_crossentropy: 0.6947 - val_categorical_accuracy: 0.7078\n",
      "Epoch 30/50\n",
      "58/58 [==============================] - 4s 64ms/step - loss: 0.6775 - categorical_crossentropy: 0.6775 - categorical_accuracy: 0.6762 - val_loss: 0.6459 - val_categorical_crossentropy: 0.6459 - val_categorical_accuracy: 0.7250\n",
      "Epoch 31/50\n",
      "58/58 [==============================] - 4s 62ms/step - loss: 0.6580 - categorical_crossentropy: 0.6580 - categorical_accuracy: 0.6884 - val_loss: 0.6426 - val_categorical_crossentropy: 0.6426 - val_categorical_accuracy: 0.7156\n",
      "Epoch 32/50\n",
      "58/58 [==============================] - 4s 62ms/step - loss: 0.6679 - categorical_crossentropy: 0.6679 - categorical_accuracy: 0.6870 - val_loss: 0.6387 - val_categorical_crossentropy: 0.6387 - val_categorical_accuracy: 0.7234\n",
      "Epoch 33/50\n",
      "58/58 [==============================] - 4s 61ms/step - loss: 0.6603 - categorical_crossentropy: 0.6603 - categorical_accuracy: 0.6901 - val_loss: 0.6315 - val_categorical_crossentropy: 0.6315 - val_categorical_accuracy: 0.7141\n",
      "Epoch 34/50\n"
     ]
    },
    {
     "name": "stdout",
     "output_type": "stream",
     "text": [
      "58/58 [==============================] - 4s 62ms/step - loss: 0.6471 - categorical_crossentropy: 0.6471 - categorical_accuracy: 0.6969 - val_loss: 0.6328 - val_categorical_crossentropy: 0.6328 - val_categorical_accuracy: 0.7125\n",
      "Epoch 35/50\n",
      "58/58 [==============================] - 4s 62ms/step - loss: 0.6495 - categorical_crossentropy: 0.6495 - categorical_accuracy: 0.7003 - val_loss: 0.6926 - val_categorical_crossentropy: 0.6926 - val_categorical_accuracy: 0.6906\n",
      "Epoch 36/50\n",
      "58/58 [==============================] - 4s 65ms/step - loss: 0.6274 - categorical_crossentropy: 0.6274 - categorical_accuracy: 0.7069 - val_loss: 0.6014 - val_categorical_crossentropy: 0.6014 - val_categorical_accuracy: 0.7172\n",
      "Epoch 37/50\n",
      "58/58 [==============================] - 4s 64ms/step - loss: 0.6150 - categorical_crossentropy: 0.6150 - categorical_accuracy: 0.7166 - val_loss: 0.6110 - val_categorical_crossentropy: 0.6110 - val_categorical_accuracy: 0.7344\n",
      "Epoch 38/50\n",
      "58/58 [==============================] - 4s 64ms/step - loss: 0.6241 - categorical_crossentropy: 0.6241 - categorical_accuracy: 0.7093 - val_loss: 0.5989 - val_categorical_crossentropy: 0.5989 - val_categorical_accuracy: 0.7203\n",
      "Epoch 39/50\n",
      "58/58 [==============================] - 4s 66ms/step - loss: 0.6069 - categorical_crossentropy: 0.6069 - categorical_accuracy: 0.7159 - val_loss: 0.5726 - val_categorical_crossentropy: 0.5726 - val_categorical_accuracy: 0.7453\n",
      "Epoch 40/50\n",
      "58/58 [==============================] - 4s 65ms/step - loss: 0.5990 - categorical_crossentropy: 0.5990 - categorical_accuracy: 0.7175 - val_loss: 0.5685 - val_categorical_crossentropy: 0.5685 - val_categorical_accuracy: 0.7391\n",
      "Epoch 41/50\n",
      "58/58 [==============================] - 4s 64ms/step - loss: 0.5806 - categorical_crossentropy: 0.5806 - categorical_accuracy: 0.7333 - val_loss: 0.5395 - val_categorical_crossentropy: 0.5395 - val_categorical_accuracy: 0.7547\n",
      "Epoch 42/50\n",
      "58/58 [==============================] - 4s 64ms/step - loss: 0.5807 - categorical_crossentropy: 0.5807 - categorical_accuracy: 0.7333 - val_loss: 0.5287 - val_categorical_crossentropy: 0.5287 - val_categorical_accuracy: 0.7797\n",
      "Epoch 43/50\n",
      "58/58 [==============================] - 4s 64ms/step - loss: 0.5716 - categorical_crossentropy: 0.5716 - categorical_accuracy: 0.7398 - val_loss: 0.5549 - val_categorical_crossentropy: 0.5549 - val_categorical_accuracy: 0.7734\n",
      "Epoch 44/50\n",
      "58/58 [==============================] - 4s 63ms/step - loss: 0.5664 - categorical_crossentropy: 0.5664 - categorical_accuracy: 0.7425 - val_loss: 0.5630 - val_categorical_crossentropy: 0.5630 - val_categorical_accuracy: 0.7500\n",
      "Epoch 45/50\n",
      "58/58 [==============================] - 4s 63ms/step - loss: 0.5848 - categorical_crossentropy: 0.5848 - categorical_accuracy: 0.7302 - val_loss: 0.5473 - val_categorical_crossentropy: 0.5473 - val_categorical_accuracy: 0.7766\n",
      "Epoch 46/50\n",
      "58/58 [==============================] - 4s 64ms/step - loss: 0.5419 - categorical_crossentropy: 0.5419 - categorical_accuracy: 0.7605 - val_loss: 0.5434 - val_categorical_crossentropy: 0.5434 - val_categorical_accuracy: 0.7781s - loss: 0.5621 - categorical_crossentrop - ETA: 0s - loss: 0.5399 - categorical_crossentropy: 0.5399 - categorical_accuracy: \n",
      "Epoch 47/50\n",
      "58/58 [==============================] - 4s 63ms/step - loss: 0.5654 - categorical_crossentropy: 0.5654 - categorical_accuracy: 0.7488 - val_loss: 0.5301 - val_categorical_crossentropy: 0.5301 - val_categorical_accuracy: 0.7891\n",
      "Epoch 48/50\n",
      "58/58 [==============================] - 4s 64ms/step - loss: 0.5462 - categorical_crossentropy: 0.5462 - categorical_accuracy: 0.7551 - val_loss: 0.5177 - val_categorical_crossentropy: 0.5177 - val_categorical_accuracy: 0.7750\n",
      "Epoch 49/50\n",
      "58/58 [==============================] - 4s 63ms/step - loss: 0.5288 - categorical_crossentropy: 0.5288 - categorical_accuracy: 0.7658 - val_loss: 0.5350 - val_categorical_crossentropy: 0.5350 - val_categorical_accuracy: 0.7609\n",
      "Epoch 50/50\n",
      "58/58 [==============================] - 4s 63ms/step - loss: 0.5342 - categorical_crossentropy: 0.5342 - categorical_accuracy: 0.7654 - val_loss: 0.5023 - val_categorical_crossentropy: 0.5023 - val_categorical_accuracy: 0.7828\n"
     ]
    }
   ],
   "source": [
    "input_layer_tensor = tf.keras.Input(shape=x[:,:,-2:].shape[1:])\n",
    "output = tf.keras.layers.LSTM(32, return_sequences=True)(input_layer_tensor)\n",
    "output = tf.keras.layers.Dropout(0.3)(output)\n",
    "output = tf.keras.layers.LSTM(64, return_sequences=False)(output)\n",
    "output = tf.keras.layers.Dense(3)(output)\n",
    "output_layer_tensor = tf.keras.layers.Softmax()(output)\n",
    "\n",
    "model = tf.keras.Model(input_layer_tensor, output_layer_tensor)\n",
    "\n",
    "#callback for TensorBoard.\n",
    "\n",
    "tensorboard_logdir=os.path.join(\"logs\",\"temp_hum_only\",\"tensorboard_events\")\n",
    "\n",
    "all_callbacks.append(\n",
    "    tf.keras.callbacks.TensorBoard(log_dir=tensorboard_logdir,\n",
    "                                   histogram_freq=1,\n",
    "                                   write_graph=False, profile_batch = 0))\n",
    "\n",
    "optimizer=tf.keras.optimizers.Adam(learning_rate=0.001, beta_1=0.85, \n",
    "                                   beta_2=0.95, epsilon=1e-07, amsgrad=False)\n",
    "loss= tf.keras.losses.CategoricalCrossentropy()\n",
    "metrics=[tf.keras.metrics.CategoricalCrossentropy(), tf.keras.metrics.CategoricalAccuracy()]\n",
    "\n",
    "model.compile(optimizer=optimizer, loss=loss, metrics=metrics)\n",
    "\n",
    "batch_size=128\n",
    "\n",
    "train_data = tf.data.Dataset.from_tensor_slices((x_train[:,:,-2:], y_train))\n",
    "train_data = train_data.cache().repeat().batch(batch_size)\n",
    "\n",
    "test_data = tf.data.Dataset.from_tensor_slices((x_test[:,:,-2:], y_test))\n",
    "test_data = test_data.batch(batch_size).repeat()\n",
    "\n",
    "epochs=50\n",
    "steps_per_epoch = x_train.shape[0]//batch_size # batches per epoch.\n",
    "validation_steps = 5\n",
    "\n",
    "history = model.fit(train_data, validation_data=test_data, epochs=epochs,\n",
    "                    steps_per_epoch=steps_per_epoch, validation_steps=validation_steps)"
   ]
  },
  {
   "cell_type": "markdown",
   "metadata": {},
   "source": [
    "## Non-equidistant dataset\n",
    "\n",
    "The reason we insisted on using equidistant input data to the LSTM model is so that the meaning associated with the position of each element of a sequence is the same in all sequences. But what would happen if we don't bother.\n",
    "\n",
    "Let's increase the maximum allowable gap to 120 seconds. That is, a contiguous span could have gaps as big as 120 seconds. We maintain resampling at periodicity of 20 seconds, but without enforcing contiguity in the resampled result. So we will still end up with a resample dataset with big time gaps. To make up for that, we will include time as a feature, but with the start time of each sequence tared to 0. That way, the time the network sees is the time transpired for each given sequence."
   ]
  },
  {
   "cell_type": "code",
   "execution_count": 36,
   "metadata": {},
   "outputs": [],
   "source": [
    "largest_acceptable_gap=120\n",
    "all_contiguous_spans = explore.get_all_contiguous_spans(active_data, largest_acceptable_gap)\n",
    "\n",
    "resampled_periodicity = 20\n",
    "duration_seq = 600\n",
    "seq_len=duration_seq//resampled_periodicity\n",
    "\n",
    "# OR:\n",
    "# seq_len=30\n",
    "# duration_seq = seq_len * resampled_periodicity\n",
    "\n",
    "all_resampled_suitable_spans = dict()\n",
    "\n",
    "all_ids = active_data.loc[:, \"id\"].unique()\n",
    "for i, id_ in enumerate(all_ids):\n",
    "    # isolate a single stretch of active exposure to stimuli.\n",
    "    mask_id = (active_data[\"id\"]==id_)\n",
    "    active_stimulation = active_data.loc[mask_id, :]\n",
    "     \n",
    "    # Get the start indices of all suitable contiguous spans.\n",
    "    # Suitable spans are those that can produce at least one sequence.\n",
    "    \n",
    "    mask_suitable_spans = (all_contiguous_spans[\"id\"]==id_) & \\\n",
    "        (all_contiguous_spans[\"duration\"]>duration_seq)\n",
    "    \n",
    "    suitable_spans_range_ind = all_contiguous_spans.loc[mask_suitable_spans.to_numpy(), \n",
    "                                                        [\"start_index\", \"end_index\"]]\n",
    "    \n",
    "    # resample each suitable contiguous span.\n",
    "    \n",
    "    all_resampled_suitable_spans[id_] = list()\n",
    "    for start_ind, end_ind in suitable_spans_range_ind.itertuples(index=False):\n",
    "        suitable_span = active_stimulation.loc[start_ind:end_ind, :]\n",
    "\n",
    "        resampled_suitable_span, _ = prepare.segment_and_resample(suitable_span.to_numpy(), \n",
    "                                            resampled_periodicity, \n",
    "                                            index_time_field=suitable_span.columns.get_loc(\"time\"),\n",
    "                                            enforce_contiguity=False)\n",
    "        \n",
    "        all_resampled_suitable_spans[id_].append(resampled_suitable_span)"
   ]
  },
  {
   "cell_type": "code",
   "execution_count": 37,
   "metadata": {},
   "outputs": [],
   "source": [
    "# fold all the suitable resampled spans into the required shape for training.\n",
    "\n",
    "all_folded_spans=[]\n",
    "all_onehots=[]\n",
    "\n",
    "onehot_encoder = preprocessing.OneHotEncoder()\n",
    "onehot_encoder.fit(raw_metadata[\"class\"].unique().reshape(-1, 1))\n",
    "\n",
    "for id_ in all_resampled_suitable_spans.keys():\n",
    "    time_field_ind = 0\n",
    "    for resampled_suitable_span in all_resampled_suitable_spans[id_]:\n",
    "        # drop the id column.\n",
    "        temp = np.delete(resampled_suitable_span, [0], axis = 1)\n",
    "        folded_span = prepare.fold_into_overlapping_sequences(temp,\n",
    "                                        seq_len, \n",
    "                                        fields_to_zero_tare = [None, 0])\n",
    "        \n",
    "        stimulation_class_mask = (raw_metadata[\"id\"]==id_)\n",
    "        stimulation_class = raw_metadata.loc[stimulation_class_mask, \"class\"]\n",
    "        stim_classes = np.repeat(stimulation_class.to_numpy(), folded_span.shape[0]).reshape(-1, 1)\n",
    "        all_folded_spans.append(folded_span)\n",
    "\n",
    "        all_onehots.append(onehot_encoder.transform(stim_classes).toarray())\n",
    "\n",
    "x = np.concatenate(all_folded_spans)\n",
    "y = np.concatenate(all_onehots)\n",
    "\n",
    "train_size=0.8\n",
    "x_train, x_test, y_train, y_test = model_selection.train_test_split(\n",
    "    x, y, train_size=train_size, shuffle=True, random_state=77)"
   ]
  },
  {
   "cell_type": "code",
   "execution_count": 38,
   "metadata": {
    "scrolled": true
   },
   "outputs": [
    {
     "name": "stdout",
     "output_type": "stream",
     "text": [
      "Train for 58 steps, validate for 5 steps\n",
      "Epoch 1/20\n",
      "58/58 [==============================] - 8s 141ms/step - loss: 1.0159 - categorical_crossentropy: 1.0159 - categorical_accuracy: 0.4809 - val_loss: 0.8055 - val_categorical_crossentropy: 0.8055 - val_categorical_accuracy: 0.6266\n",
      "Epoch 2/20\n",
      "58/58 [==============================] - 4s 64ms/step - loss: 0.8331 - categorical_crossentropy: 0.8331 - categorical_accuracy: 0.5933 - val_loss: 0.7483 - val_categorical_crossentropy: 0.7483 - val_categorical_accuracy: 0.6703\n",
      "Epoch 3/20\n",
      "58/58 [==============================] - 4s 64ms/step - loss: 0.7768 - categorical_crossentropy: 0.7768 - categorical_accuracy: 0.6212 - val_loss: 0.7300 - val_categorical_crossentropy: 0.7300 - val_categorical_accuracy: 0.6469\n",
      "Epoch 4/20\n",
      "58/58 [==============================] - 4s 65ms/step - loss: 0.7595 - categorical_crossentropy: 0.7595 - categorical_accuracy: 0.6289 - val_loss: 0.7471 - val_categorical_crossentropy: 0.7471 - val_categorical_accuracy: 0.6422\n",
      "Epoch 5/20\n",
      "58/58 [==============================] - 4s 64ms/step - loss: 0.7484 - categorical_crossentropy: 0.7484 - categorical_accuracy: 0.6371 - val_loss: 0.7253 - val_categorical_crossentropy: 0.7253 - val_categorical_accuracy: 0.6438\n",
      "Epoch 6/20\n",
      "58/58 [==============================] - 4s 63ms/step - loss: 0.7293 - categorical_crossentropy: 0.7293 - categorical_accuracy: 0.6534 - val_loss: 0.7048 - val_categorical_crossentropy: 0.7048 - val_categorical_accuracy: 0.6547\n",
      "Epoch 7/20\n",
      "58/58 [==============================] - 4s 64ms/step - loss: 0.6965 - categorical_crossentropy: 0.6965 - categorical_accuracy: 0.6762 - val_loss: 0.6485 - val_categorical_crossentropy: 0.6485 - val_categorical_accuracy: 0.7047\n",
      "Epoch 8/20\n",
      "58/58 [==============================] - 4s 63ms/step - loss: 0.6661 - categorical_crossentropy: 0.6661 - categorical_accuracy: 0.6915 - val_loss: 0.6675 - val_categorical_crossentropy: 0.6675 - val_categorical_accuracy: 0.6953\n",
      "Epoch 9/20\n",
      "58/58 [==============================] - 4s 65ms/step - loss: 0.6228 - categorical_crossentropy: 0.6228 - categorical_accuracy: 0.7237 - val_loss: 0.5687 - val_categorical_crossentropy: 0.5687 - val_categorical_accuracy: 0.7469\n",
      "Epoch 10/20\n",
      "58/58 [==============================] - 4s 64ms/step - loss: 0.5911 - categorical_crossentropy: 0.5911 - categorical_accuracy: 0.7481 - val_loss: 0.5551 - val_categorical_crossentropy: 0.5551 - val_categorical_accuracy: 0.7688\n",
      "Epoch 11/20\n",
      "58/58 [==============================] - 4s 63ms/step - loss: 0.5572 - categorical_crossentropy: 0.5572 - categorical_accuracy: 0.7671 - val_loss: 0.5703 - val_categorical_crossentropy: 0.5703 - val_categorical_accuracy: 0.7937\n",
      "Epoch 12/20\n",
      "58/58 [==============================] - 4s 62ms/step - loss: 0.5454 - categorical_crossentropy: 0.5454 - categorical_accuracy: 0.7745 - val_loss: 0.4932 - val_categorical_crossentropy: 0.4932 - val_categorical_accuracy: 0.7844\n",
      "Epoch 13/20\n",
      "58/58 [==============================] - 4s 63ms/step - loss: 0.5104 - categorical_crossentropy: 0.5104 - categorical_accuracy: 0.7900 - val_loss: 0.4379 - val_categorical_crossentropy: 0.4379 - val_categorical_accuracy: 0.8359\n",
      "Epoch 14/20\n",
      "58/58 [==============================] - 4s 63ms/step - loss: 0.4907 - categorical_crossentropy: 0.4907 - categorical_accuracy: 0.7994 - val_loss: 0.4949 - val_categorical_crossentropy: 0.4949 - val_categorical_accuracy: 0.7891\n",
      "Epoch 15/20\n",
      "58/58 [==============================] - 4s 62ms/step - loss: 0.4568 - categorical_crossentropy: 0.4568 - categorical_accuracy: 0.8182 - val_loss: 0.5356 - val_categorical_crossentropy: 0.5356 - val_categorical_accuracy: 0.7688\n",
      "Epoch 16/20\n",
      "58/58 [==============================] - 4s 64ms/step - loss: 0.4307 - categorical_crossentropy: 0.4307 - categorical_accuracy: 0.8289 - val_loss: 0.3647 - val_categorical_crossentropy: 0.3647 - val_categorical_accuracy: 0.8719\n",
      "Epoch 17/20\n",
      "58/58 [==============================] - 4s 64ms/step - loss: 0.4322 - categorical_crossentropy: 0.4322 - categorical_accuracy: 0.8305 - val_loss: 0.4644 - val_categorical_crossentropy: 0.4644 - val_categorical_accuracy: 0.8125\n",
      "Epoch 18/20\n",
      "58/58 [==============================] - ETA: 0s - loss: 0.4072 - categorical_crossentropy: 0.4072 - categorical_accuracy: 0.846 - 4s 66ms/step - loss: 0.4060 - categorical_crossentropy: 0.4060 - categorical_accuracy: 0.8467 - val_loss: 0.3653 - val_categorical_crossentropy: 0.3653 - val_categorical_accuracy: 0.8734\n",
      "Epoch 19/20\n",
      "58/58 [==============================] - 4s 66ms/step - loss: 0.3689 - categorical_crossentropy: 0.3689 - categorical_accuracy: 0.8575 - val_loss: 0.3875 - val_categorical_crossentropy: 0.3875 - val_categorical_accuracy: 0.8531\n",
      "Epoch 20/20\n",
      "58/58 [==============================] - 4s 66ms/step - loss: 0.3976 - categorical_crossentropy: 0.3976 - categorical_accuracy: 0.8452 - val_loss: 0.3944 - val_categorical_crossentropy: 0.3944 - val_categorical_accuracy: 0.8594\n"
     ]
    }
   ],
   "source": [
    "input_layer_tensor = tf.keras.Input(shape=x.shape[1:])\n",
    "output = tf.keras.layers.LSTM(32, return_sequences=True)(input_layer_tensor)\n",
    "output = tf.keras.layers.Dropout(0.3)(output)\n",
    "output = tf.keras.layers.LSTM(64, return_sequences=False)(output)\n",
    "output = tf.keras.layers.Dense(3)(output)\n",
    "output_layer_tensor = tf.keras.layers.Softmax()(output)\n",
    "\n",
    "model = tf.keras.Model(input_layer_tensor, output_layer_tensor)\n",
    "\n",
    "#callback for TensorBoard.\n",
    "\n",
    "tensorboard_logdir=os.path.join(\"logs\", \"messy\",\"tensorboard_events\")\n",
    "\n",
    "all_callbacks.append(\n",
    "    tf.keras.callbacks.TensorBoard(log_dir=tensorboard_logdir,\n",
    "                                   histogram_freq=1,\n",
    "                                   write_graph=False, profile_batch = 0))\n",
    "\n",
    "optimizer=tf.keras.optimizers.Adam(learning_rate=0.001, beta_1=0.85, \n",
    "                                   beta_2=0.95, epsilon=1e-07, amsgrad=False)\n",
    "loss= tf.keras.losses.CategoricalCrossentropy()\n",
    "metrics=[tf.keras.metrics.CategoricalCrossentropy(), tf.keras.metrics.CategoricalAccuracy()]\n",
    "\n",
    "model.compile(optimizer=optimizer, loss=loss, metrics=metrics)\n",
    "\n",
    "batch_size=128\n",
    "\n",
    "train_data = tf.data.Dataset.from_tensor_slices((x_train, y_train))\n",
    "train_data = train_data.cache().repeat().batch(batch_size)\n",
    "\n",
    "test_data = tf.data.Dataset.from_tensor_slices((x_test, y_test))\n",
    "test_data = test_data.batch(batch_size).repeat()\n",
    "\n",
    "epochs=50\n",
    "steps_per_epoch = x_train.shape[0]//batch_size # batches per epoch.\n",
    "validation_steps = 5\n",
    "\n",
    "history = model.fit(train_data, validation_data=test_data, epochs=epochs,\n",
    "                    steps_per_epoch=steps_per_epoch, validation_steps=validation_steps)"
   ]
  },
  {
   "cell_type": "code",
   "execution_count": null,
   "metadata": {},
   "outputs": [],
   "source": []
  }
 ],
 "metadata": {
  "kernelspec": {
   "display_name": "Python 3",
   "language": "python",
   "name": "python3"
  },
  "language_info": {
   "codemirror_mode": {
    "name": "ipython",
    "version": 3
   },
   "file_extension": ".py",
   "mimetype": "text/x-python",
   "name": "python",
   "nbconvert_exporter": "python",
   "pygments_lexer": "ipython3",
   "version": "3.7.4"
  }
 },
 "nbformat": 4,
 "nbformat_minor": 4
}
